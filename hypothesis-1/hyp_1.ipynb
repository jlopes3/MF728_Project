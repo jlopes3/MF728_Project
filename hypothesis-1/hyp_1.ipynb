{
 "cells": [
  {
   "cell_type": "markdown",
   "id": "376afcc3",
   "metadata": {},
   "source": [
    "### Hypothesis 1: A decline in equity value increases default probability."
   ]
  },
  {
   "cell_type": "markdown",
   "id": "ef153d61",
   "metadata": {},
   "source": [
    "# DELETE LATER\n",
    "### Expected result: negative correlation between percent change in market cap and percent change in default probability. This should be pretty straightforward."
   ]
  }
 ],
 "metadata": {
  "language_info": {
   "name": "python"
  }
 },
 "nbformat": 4,
 "nbformat_minor": 5
}
