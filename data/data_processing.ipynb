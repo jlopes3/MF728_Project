{
 "cells": [
  {
   "cell_type": "code",
   "execution_count": 1,
   "id": "35223dc7",
   "metadata": {},
   "outputs": [],
   "source": [
    "import pandas as pd\n",
    "import numpy as np"
   ]
  },
  {
   "cell_type": "markdown",
   "id": "cc94dfb1",
   "metadata": {},
   "source": [
    "## Clean merged data."
   ]
  },
  {
   "cell_type": "code",
   "execution_count": 2,
   "id": "384878f2",
   "metadata": {},
   "outputs": [
    {
     "name": "stderr",
     "output_type": "stream",
     "text": [
      "/var/folders/jx/vhdxb7ks06710zlsb29bkz000000gn/T/ipykernel_70287/2255922071.py:1: DtypeWarning: Columns (20) have mixed types. Specify dtype option on import or set low_memory=False.\n",
      "  cleaned_df = pd.read_csv(\"raw_data.csv\")\n"
     ]
    },
    {
     "data": {
      "text/html": [
       "<div>\n",
       "<style scoped>\n",
       "    .dataframe tbody tr th:only-of-type {\n",
       "        vertical-align: middle;\n",
       "    }\n",
       "\n",
       "    .dataframe tbody tr th {\n",
       "        vertical-align: top;\n",
       "    }\n",
       "\n",
       "    .dataframe thead th {\n",
       "        text-align: right;\n",
       "    }\n",
       "</style>\n",
       "<table border=\"1\" class=\"dataframe\">\n",
       "  <thead>\n",
       "    <tr style=\"text-align: right;\">\n",
       "      <th></th>\n",
       "      <th>permno</th>\n",
       "      <th>date</th>\n",
       "      <th>PRC</th>\n",
       "      <th>SHROUT</th>\n",
       "      <th>datadate</th>\n",
       "      <th>tic</th>\n",
       "      <th>conm</th>\n",
       "      <th>atq</th>\n",
       "      <th>dlcq</th>\n",
       "      <th>dlttq</th>\n",
       "      <th>real_price</th>\n",
       "    </tr>\n",
       "  </thead>\n",
       "  <tbody>\n",
       "    <tr>\n",
       "      <th>252</th>\n",
       "      <td>10104</td>\n",
       "      <td>2005-01-03</td>\n",
       "      <td>13.41</td>\n",
       "      <td>5224866.0</td>\n",
       "      <td>2004-11-30</td>\n",
       "      <td>ORCL</td>\n",
       "      <td>ORACLE CORP</td>\n",
       "      <td>13137.0</td>\n",
       "      <td>9.0</td>\n",
       "      <td>162.0</td>\n",
       "      <td>13.41</td>\n",
       "    </tr>\n",
       "    <tr>\n",
       "      <th>253</th>\n",
       "      <td>10104</td>\n",
       "      <td>2005-01-04</td>\n",
       "      <td>13.06</td>\n",
       "      <td>5224866.0</td>\n",
       "      <td>2004-11-30</td>\n",
       "      <td>ORCL</td>\n",
       "      <td>ORACLE CORP</td>\n",
       "      <td>13137.0</td>\n",
       "      <td>9.0</td>\n",
       "      <td>162.0</td>\n",
       "      <td>13.06</td>\n",
       "    </tr>\n",
       "    <tr>\n",
       "      <th>254</th>\n",
       "      <td>10104</td>\n",
       "      <td>2005-01-05</td>\n",
       "      <td>13.10</td>\n",
       "      <td>5224866.0</td>\n",
       "      <td>2004-11-30</td>\n",
       "      <td>ORCL</td>\n",
       "      <td>ORACLE CORP</td>\n",
       "      <td>13137.0</td>\n",
       "      <td>9.0</td>\n",
       "      <td>162.0</td>\n",
       "      <td>13.10</td>\n",
       "    </tr>\n",
       "    <tr>\n",
       "      <th>255</th>\n",
       "      <td>10104</td>\n",
       "      <td>2005-01-06</td>\n",
       "      <td>13.22</td>\n",
       "      <td>5224866.0</td>\n",
       "      <td>2004-11-30</td>\n",
       "      <td>ORCL</td>\n",
       "      <td>ORACLE CORP</td>\n",
       "      <td>13137.0</td>\n",
       "      <td>9.0</td>\n",
       "      <td>162.0</td>\n",
       "      <td>13.22</td>\n",
       "    </tr>\n",
       "    <tr>\n",
       "      <th>256</th>\n",
       "      <td>10104</td>\n",
       "      <td>2005-01-07</td>\n",
       "      <td>13.33</td>\n",
       "      <td>5224866.0</td>\n",
       "      <td>2004-11-30</td>\n",
       "      <td>ORCL</td>\n",
       "      <td>ORACLE CORP</td>\n",
       "      <td>13137.0</td>\n",
       "      <td>9.0</td>\n",
       "      <td>162.0</td>\n",
       "      <td>13.33</td>\n",
       "    </tr>\n",
       "  </tbody>\n",
       "</table>\n",
       "</div>"
      ],
      "text/plain": [
       "     permno       date    PRC     SHROUT    datadate   tic         conm  \\\n",
       "252   10104 2005-01-03  13.41  5224866.0  2004-11-30  ORCL  ORACLE CORP   \n",
       "253   10104 2005-01-04  13.06  5224866.0  2004-11-30  ORCL  ORACLE CORP   \n",
       "254   10104 2005-01-05  13.10  5224866.0  2004-11-30  ORCL  ORACLE CORP   \n",
       "255   10104 2005-01-06  13.22  5224866.0  2004-11-30  ORCL  ORACLE CORP   \n",
       "256   10104 2005-01-07  13.33  5224866.0  2004-11-30  ORCL  ORACLE CORP   \n",
       "\n",
       "         atq  dlcq  dlttq  real_price  \n",
       "252  13137.0   9.0  162.0       13.41  \n",
       "253  13137.0   9.0  162.0       13.06  \n",
       "254  13137.0   9.0  162.0       13.10  \n",
       "255  13137.0   9.0  162.0       13.22  \n",
       "256  13137.0   9.0  162.0       13.33  "
      ]
     },
     "execution_count": 2,
     "metadata": {},
     "output_type": "execute_result"
    }
   ],
   "source": [
    "cleaned_df = pd.read_csv(\"raw_data.csv\")\n",
    "cleaned_df= cleaned_df.loc[cleaned_df['date'] >= \"2005-01-01\"]\n",
    "cleaned_df = cleaned_df[['permno_x', 'date', 'prc', 'shrout', 'datadate',\n",
    "       'tic', 'conm', 'atq', 'dlcq', 'dlttq', 'real_price'\n",
    "       ]]\n",
    "cleaned_df = cleaned_df.rename(columns={'permno_x': 'permno', 'prc': 'PRC', 'shrout':'SHROUT'})\n",
    "cleaned_df['date'] = pd.to_datetime(cleaned_df['date'])\n",
    "cleaned_df.head()"
   ]
  },
  {
   "cell_type": "code",
   "execution_count": 3,
   "id": "734efd2d",
   "metadata": {},
   "outputs": [
    {
     "data": {
      "text/html": [
       "<div>\n",
       "<style scoped>\n",
       "    .dataframe tbody tr th:only-of-type {\n",
       "        vertical-align: middle;\n",
       "    }\n",
       "\n",
       "    .dataframe tbody tr th {\n",
       "        vertical-align: top;\n",
       "    }\n",
       "\n",
       "    .dataframe thead th {\n",
       "        text-align: right;\n",
       "    }\n",
       "</style>\n",
       "<table border=\"1\" class=\"dataframe\">\n",
       "  <thead>\n",
       "    <tr style=\"text-align: right;\">\n",
       "      <th></th>\n",
       "      <th>permno</th>\n",
       "      <th>date</th>\n",
       "      <th>PRC</th>\n",
       "      <th>SHROUT</th>\n",
       "      <th>datadate</th>\n",
       "      <th>tic</th>\n",
       "      <th>conm</th>\n",
       "      <th>atq</th>\n",
       "      <th>dlcq</th>\n",
       "      <th>dlttq</th>\n",
       "      <th>real_price</th>\n",
       "    </tr>\n",
       "  </thead>\n",
       "  <tbody>\n",
       "    <tr>\n",
       "      <th>252</th>\n",
       "      <td>10104</td>\n",
       "      <td>2005-01-03</td>\n",
       "      <td>13.41</td>\n",
       "      <td>5224866.0</td>\n",
       "      <td>2004-11-30</td>\n",
       "      <td>ORCL</td>\n",
       "      <td>ORACLE CORP</td>\n",
       "      <td>13137.0</td>\n",
       "      <td>9.0</td>\n",
       "      <td>162.0</td>\n",
       "      <td>13.41</td>\n",
       "    </tr>\n",
       "    <tr>\n",
       "      <th>253</th>\n",
       "      <td>10104</td>\n",
       "      <td>2005-01-04</td>\n",
       "      <td>13.06</td>\n",
       "      <td>5224866.0</td>\n",
       "      <td>2004-11-30</td>\n",
       "      <td>ORCL</td>\n",
       "      <td>ORACLE CORP</td>\n",
       "      <td>13137.0</td>\n",
       "      <td>9.0</td>\n",
       "      <td>162.0</td>\n",
       "      <td>13.06</td>\n",
       "    </tr>\n",
       "    <tr>\n",
       "      <th>254</th>\n",
       "      <td>10104</td>\n",
       "      <td>2005-01-05</td>\n",
       "      <td>13.10</td>\n",
       "      <td>5224866.0</td>\n",
       "      <td>2004-11-30</td>\n",
       "      <td>ORCL</td>\n",
       "      <td>ORACLE CORP</td>\n",
       "      <td>13137.0</td>\n",
       "      <td>9.0</td>\n",
       "      <td>162.0</td>\n",
       "      <td>13.10</td>\n",
       "    </tr>\n",
       "    <tr>\n",
       "      <th>255</th>\n",
       "      <td>10104</td>\n",
       "      <td>2005-01-06</td>\n",
       "      <td>13.22</td>\n",
       "      <td>5224866.0</td>\n",
       "      <td>2004-11-30</td>\n",
       "      <td>ORCL</td>\n",
       "      <td>ORACLE CORP</td>\n",
       "      <td>13137.0</td>\n",
       "      <td>9.0</td>\n",
       "      <td>162.0</td>\n",
       "      <td>13.22</td>\n",
       "    </tr>\n",
       "    <tr>\n",
       "      <th>256</th>\n",
       "      <td>10104</td>\n",
       "      <td>2005-01-07</td>\n",
       "      <td>13.33</td>\n",
       "      <td>5224866.0</td>\n",
       "      <td>2004-11-30</td>\n",
       "      <td>ORCL</td>\n",
       "      <td>ORACLE CORP</td>\n",
       "      <td>13137.0</td>\n",
       "      <td>9.0</td>\n",
       "      <td>162.0</td>\n",
       "      <td>13.33</td>\n",
       "    </tr>\n",
       "  </tbody>\n",
       "</table>\n",
       "</div>"
      ],
      "text/plain": [
       "     permno       date    PRC     SHROUT    datadate   tic         conm  \\\n",
       "252   10104 2005-01-03  13.41  5224866.0  2004-11-30  ORCL  ORACLE CORP   \n",
       "253   10104 2005-01-04  13.06  5224866.0  2004-11-30  ORCL  ORACLE CORP   \n",
       "254   10104 2005-01-05  13.10  5224866.0  2004-11-30  ORCL  ORACLE CORP   \n",
       "255   10104 2005-01-06  13.22  5224866.0  2004-11-30  ORCL  ORACLE CORP   \n",
       "256   10104 2005-01-07  13.33  5224866.0  2004-11-30  ORCL  ORACLE CORP   \n",
       "\n",
       "         atq  dlcq  dlttq  real_price  \n",
       "252  13137.0   9.0  162.0       13.41  \n",
       "253  13137.0   9.0  162.0       13.06  \n",
       "254  13137.0   9.0  162.0       13.10  \n",
       "255  13137.0   9.0  162.0       13.22  \n",
       "256  13137.0   9.0  162.0       13.33  "
      ]
     },
     "execution_count": 3,
     "metadata": {},
     "output_type": "execute_result"
    }
   ],
   "source": [
    "df = cleaned_df\n",
    "df.head()"
   ]
  },
  {
   "cell_type": "markdown",
   "id": "cb77b663",
   "metadata": {},
   "source": [
    "## Calculating market cap, leverage, log returns, and annualized equity volatility for a rolling 252 day window. Standardizing units from millions of USD to USD."
   ]
  },
  {
   "cell_type": "code",
   "execution_count": 4,
   "id": "93015aa6",
   "metadata": {},
   "outputs": [],
   "source": [
    "df['market_cap'] = df['real_price'] * df['SHROUT'] * 1000  # real_price in dollars, SHROUT in thousands"
   ]
  },
  {
   "cell_type": "code",
   "execution_count": 5,
   "id": "f590a6c5",
   "metadata": {},
   "outputs": [],
   "source": [
    "df['dlcq'] = df['dlcq'] * 1000000\n",
    "df['dlttq'] = df['dlttq'] * 1000000\n",
    "df['atq'] = df['atq'] * 1000000\n",
    "\n",
    "# MAY WANT TO ADJUST WEIGHT LONG TERM AND SHORT TERM DEBT\n",
    "df['total_debt'] = (df['dlcq'] + (df['dlttq']))"
   ]
  },
  {
   "cell_type": "code",
   "execution_count": 6,
   "id": "64c7a325",
   "metadata": {},
   "outputs": [],
   "source": [
    "df['leverage'] = df['total_debt'] / df['atq']"
   ]
  },
  {
   "cell_type": "code",
   "execution_count": 7,
   "id": "e8486114",
   "metadata": {},
   "outputs": [],
   "source": [
    "df = df.sort_values(by=['tic', 'date'])\n",
    "df['log_return'] = df.groupby('tic')['PRC'].transform(lambda x: np.log(x / x.shift(1)))"
   ]
  },
  {
   "cell_type": "code",
   "execution_count": 8,
   "id": "6fe63513",
   "metadata": {},
   "outputs": [],
   "source": [
    "df['equity_volatility'] = df.groupby('tic')['log_return'].rolling(window=252).std().reset_index(level=0, drop=True) * np.sqrt(252)"
   ]
  },
  {
   "cell_type": "markdown",
   "id": "741c726f",
   "metadata": {},
   "source": [
    "## Adding 10 year treasury data. Forward filling for missing dates."
   ]
  },
  {
   "cell_type": "code",
   "execution_count": 9,
   "id": "fbf2ab86",
   "metadata": {},
   "outputs": [],
   "source": [
    "df = df.dropna()"
   ]
  },
  {
   "cell_type": "code",
   "execution_count": 10,
   "id": "c62dfda8",
   "metadata": {},
   "outputs": [],
   "source": [
    "rf_df = pd.read_csv(\"TreasuryRaw.csv\")"
   ]
  },
  {
   "cell_type": "code",
   "execution_count": 11,
   "id": "2ce612b8",
   "metadata": {},
   "outputs": [],
   "source": [
    "rf_df['date'] = pd.to_datetime(rf_df['observation_date'])"
   ]
  },
  {
   "cell_type": "code",
   "execution_count": 12,
   "id": "bdeee8ce",
   "metadata": {},
   "outputs": [],
   "source": [
    "rf_df['DGS10'] = rf_df['DGS10'].ffill()"
   ]
  },
  {
   "cell_type": "code",
   "execution_count": 13,
   "id": "d9d16875",
   "metadata": {},
   "outputs": [],
   "source": [
    "df = pd.merge(rf_df, df, on=\"date\", how=\"inner\")"
   ]
  },
  {
   "cell_type": "markdown",
   "id": "2d48fddd",
   "metadata": {},
   "source": [
    "## Selecting necessary columns and writing to csv."
   ]
  },
  {
   "cell_type": "code",
   "execution_count": 14,
   "id": "ae020d82",
   "metadata": {},
   "outputs": [],
   "source": [
    "df = df[['date', 'permno','tic', 'conm', 'PRC', 'atq', 'dlcq', 'dlttq', 'SHROUT', 'market_cap',\n",
    "       'total_debt', 'leverage', 'log_return', 'equity_volatility', 'DGS10']]\n",
    "df = df.rename(columns={'DGS10': 'rf'})\n",
    "df = df.sort_values(by=['tic', 'date'])\n"
   ]
  },
  {
   "cell_type": "code",
   "execution_count": 15,
   "id": "cb9ecccb",
   "metadata": {},
   "outputs": [],
   "source": [
    "df.to_csv(\"clean_data.csv\", index=False)"
   ]
  }
 ],
 "metadata": {
  "kernelspec": {
   "display_name": "base",
   "language": "python",
   "name": "python3"
  },
  "language_info": {
   "codemirror_mode": {
    "name": "ipython",
    "version": 3
   },
   "file_extension": ".py",
   "mimetype": "text/x-python",
   "name": "python",
   "nbconvert_exporter": "python",
   "pygments_lexer": "ipython3",
   "version": "3.12.4"
  }
 },
 "nbformat": 4,
 "nbformat_minor": 5
}
