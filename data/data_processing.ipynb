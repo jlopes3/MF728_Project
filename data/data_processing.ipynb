{
 "cells": [
  {
   "cell_type": "code",
   "execution_count": 1,
   "id": "35223dc7",
   "metadata": {},
   "outputs": [],
   "source": [
    "import pandas as pd"
   ]
  },
  {
   "cell_type": "code",
   "execution_count": 2,
   "id": "182f13b2",
   "metadata": {},
   "outputs": [],
   "source": [
    "prices_df = pd.read_csv(\"daily_prices.csv\")\n",
    "fundamentals_df = pd.read_csv(\"financial_raw_data.csv\")"
   ]
  },
  {
   "cell_type": "code",
   "execution_count": 3,
   "id": "a26dcaa8",
   "metadata": {},
   "outputs": [
    {
     "name": "stdout",
     "output_type": "stream",
     "text": [
      "         date    AAL   AAPL    AMD     BA    BAC      C    CAT   DAL      F  \\\n",
      "0  2005-01-03  11.04  63.29  21.41  50.97  46.46  48.27  95.07  7.56  14.71   \n",
      "1  2005-01-04  10.01  63.94  20.21  49.98  45.82  47.86  94.02  7.31  14.66   \n",
      "2  2005-01-05   9.05  64.50  19.75  50.81  45.29  48.46  92.22  6.80  14.43   \n",
      "3  2005-01-06   8.75  64.55  19.72  50.48  45.22  48.93  93.58  6.55  14.45   \n",
      "4  2005-01-07   8.85  69.25  19.92  50.31  44.73  48.65  93.38  6.62  14.65   \n",
      "\n",
      "   ...      GOOGL      GS   INTC    JNJ    JPM    MAR   MSFT   NVDA   ORCL  \\\n",
      "0  ...  202.71001  104.95  23.07  62.90  39.15  62.54  26.74  23.58  13.41   \n",
      "1  ...  194.50000  104.27  22.61  62.70  38.41  61.58  26.84  22.47  13.06   \n",
      "2  ...  193.50999  103.80  22.39  62.66  38.49  61.62  26.78  22.68  13.10   \n",
      "3  ...  188.55000  105.23  22.46  62.84  38.71  62.20  26.75  22.46  13.22   \n",
      "4  ...  193.85001  104.78  22.80  62.61  38.40  62.11  26.67  22.03  13.33   \n",
      "\n",
      "       T  \n",
      "0  18.81  \n",
      "1  18.33  \n",
      "2  18.49  \n",
      "3  18.60  \n",
      "4  18.79  \n",
      "\n",
      "[5 rows x 21 columns]\n"
     ]
    }
   ],
   "source": [
    "print(prices_df.head())\n",
    "del prices_df['AAL']\n",
    "del prices_df['DAL']"
   ]
  },
  {
   "cell_type": "code",
   "execution_count": 4,
   "id": "0c168935",
   "metadata": {},
   "outputs": [
    {
     "name": "stdout",
     "output_type": "stream",
     "text": [
      "   gvkey    datadate  fyearq  fqtr  fyr indfmt consol popsrc datafmt  tic  \\\n",
      "0   1045  2005-03-31    2005     1   12   INDL      C      D     STD  AAL   \n",
      "1   1045  2005-06-30    2005     2   12   INDL      C      D     STD  AAL   \n",
      "2   1045  2005-09-30    2005     3   12   INDL      C      D     STD  AAL   \n",
      "3   1045  2005-12-31    2005     4   12   INDL      C      D     STD  AAL   \n",
      "4   1045  2006-03-31    2006     1   12   INDL      C      D     STD  AAL   \n",
      "\n",
      "                          conm curcdq datacqtr datafqtr      atq    dlcq  \\\n",
      "0  AMERICAN AIRLINES GROUP INC    USD   2005Q1   2005Q1  29167.0   879.0   \n",
      "1  AMERICAN AIRLINES GROUP INC    USD   2005Q2   2005Q2  29494.0   910.0   \n",
      "2  AMERICAN AIRLINES GROUP INC    USD   2005Q3   2005Q3  29436.0   960.0   \n",
      "3  AMERICAN AIRLINES GROUP INC    USD   2005Q4   2005Q4  29495.0  1239.0   \n",
      "4  AMERICAN AIRLINES GROUP INC    USD   2006Q1   2006Q1  29918.0  1185.0   \n",
      "\n",
      "     dlttq     lseq  exchg costat  \n",
      "0  13375.0  29167.0     14      A  \n",
      "1  13322.0  29494.0     14      A  \n",
      "2  13231.0  29436.0     14      A  \n",
      "3  13456.0  29495.0     14      A  \n",
      "4  13165.0  29918.0     14      A  \n"
     ]
    }
   ],
   "source": [
    "print(fundamentals_df.head())"
   ]
  },
  {
   "cell_type": "code",
   "execution_count": 5,
   "id": "e2019706",
   "metadata": {},
   "outputs": [],
   "source": [
    "prices_long = prices_df.melt(id_vars='date', var_name='tic', value_name='price')"
   ]
  },
  {
   "cell_type": "code",
   "execution_count": 6,
   "id": "0f180adb",
   "metadata": {},
   "outputs": [
    {
     "name": "stdout",
     "output_type": "stream",
     "text": [
      "             date   tic  price\n",
      "0      2005-01-03  AAPL  63.29\n",
      "1      2005-01-04  AAPL  63.94\n",
      "2      2005-01-05  AAPL  64.50\n",
      "3      2005-01-06  AAPL  64.55\n",
      "4      2005-01-07  AAPL  69.25\n",
      "...           ...   ...    ...\n",
      "90589  2024-12-24     T  22.95\n",
      "90590  2024-12-26     T  22.96\n",
      "90591  2024-12-27     T  22.86\n",
      "90592  2024-12-30     T  22.61\n",
      "90593  2024-12-31     T  22.77\n",
      "\n",
      "[90594 rows x 3 columns]\n"
     ]
    }
   ],
   "source": [
    "print(prices_long)"
   ]
  },
  {
   "cell_type": "code",
   "execution_count": 7,
   "id": "57d8dad3",
   "metadata": {},
   "outputs": [],
   "source": [
    "prices_long['date'] = pd.to_datetime(prices_long['date'])\n",
    "fundamentals_df['date'] = pd.to_datetime(fundamentals_df['datadate'])"
   ]
  },
  {
   "cell_type": "code",
   "execution_count": 8,
   "id": "f5a61dae",
   "metadata": {},
   "outputs": [
    {
     "name": "stdout",
     "output_type": "stream",
     "text": [
      "        date   tic  price\n",
      "0 2005-01-03  AAPL  63.29\n",
      "1 2005-01-04  AAPL  63.94\n",
      "2 2005-01-05  AAPL  64.50\n",
      "3 2005-01-06  AAPL  64.55\n",
      "4 2005-01-07  AAPL  69.25\n",
      "   gvkey    datadate  fyearq  fqtr  fyr indfmt consol popsrc datafmt  tic  \\\n",
      "0   1045  2005-03-31    2005     1   12   INDL      C      D     STD  AAL   \n",
      "1   1045  2005-06-30    2005     2   12   INDL      C      D     STD  AAL   \n",
      "2   1045  2005-09-30    2005     3   12   INDL      C      D     STD  AAL   \n",
      "3   1045  2005-12-31    2005     4   12   INDL      C      D     STD  AAL   \n",
      "4   1045  2006-03-31    2006     1   12   INDL      C      D     STD  AAL   \n",
      "\n",
      "   ... curcdq datacqtr datafqtr      atq    dlcq    dlttq     lseq  exchg  \\\n",
      "0  ...    USD   2005Q1   2005Q1  29167.0   879.0  13375.0  29167.0     14   \n",
      "1  ...    USD   2005Q2   2005Q2  29494.0   910.0  13322.0  29494.0     14   \n",
      "2  ...    USD   2005Q3   2005Q3  29436.0   960.0  13231.0  29436.0     14   \n",
      "3  ...    USD   2005Q4   2005Q4  29495.0  1239.0  13456.0  29495.0     14   \n",
      "4  ...    USD   2006Q1   2006Q1  29918.0  1185.0  13165.0  29918.0     14   \n",
      "\n",
      "   costat       date  \n",
      "0       A 2005-03-31  \n",
      "1       A 2005-06-30  \n",
      "2       A 2005-09-30  \n",
      "3       A 2005-12-31  \n",
      "4       A 2006-03-31  \n",
      "\n",
      "[5 rows x 21 columns]\n"
     ]
    }
   ],
   "source": [
    "print(prices_long.head())\n",
    "print(fundamentals_df.head())"
   ]
  },
  {
   "cell_type": "code",
   "execution_count": 9,
   "id": "d4c2c385",
   "metadata": {},
   "outputs": [],
   "source": [
    "prices_sorted = prices_long.sort_values(by=['tic', 'date']).reset_index(drop=True)\n",
    "fundamentals_sorted = fundamentals_df.sort_values(by=['tic', 'date']).reset_index(drop=True)"
   ]
  },
  {
   "cell_type": "code",
   "execution_count": 10,
   "id": "783879af",
   "metadata": {},
   "outputs": [
    {
     "name": "stdout",
     "output_type": "stream",
     "text": [
      "           date   tic      price\n",
      "0    2005-01-03  AAPL   63.29000\n",
      "1    2005-01-04  AAPL   63.94000\n",
      "2    2005-01-05  AAPL   64.50000\n",
      "3    2005-01-06  AAPL   64.55000\n",
      "4    2005-01-07  AAPL   69.25000\n",
      "...         ...   ...        ...\n",
      "5028 2024-12-24  AAPL  258.20001\n",
      "5029 2024-12-26  AAPL  259.01999\n",
      "5030 2024-12-27  AAPL  255.59000\n",
      "5031 2024-12-30  AAPL  252.20000\n",
      "5032 2024-12-31  AAPL  250.42000\n",
      "\n",
      "[5033 rows x 3 columns]\n"
     ]
    }
   ],
   "source": [
    "print(prices_sorted.loc[prices_sorted['tic'] == 'AAPL'])"
   ]
  },
  {
   "cell_type": "code",
   "execution_count": 11,
   "id": "b0169be3",
   "metadata": {},
   "outputs": [
    {
     "name": "stdout",
     "output_type": "stream",
     "text": [
      "     gvkey    datadate  fyearq  fqtr  fyr indfmt consol popsrc datafmt   tic  \\\n",
      "80    1690  2005-03-31    2005     2    9   INDL      C      D     STD  AAPL   \n",
      "81    1690  2005-06-30    2005     3    9   INDL      C      D     STD  AAPL   \n",
      "82    1690  2005-09-30    2005     4    9   INDL      C      D     STD  AAPL   \n",
      "83    1690  2005-12-31    2006     1    9   INDL      C      D     STD  AAPL   \n",
      "84    1690  2006-03-31    2006     2    9   INDL      C      D     STD  AAPL   \n",
      "..     ...         ...     ...   ...  ...    ...    ...    ...     ...   ...   \n",
      "155   1690  2023-12-31    2024     1    9   INDL      C      D     STD  AAPL   \n",
      "156   1690  2024-03-31    2024     2    9   INDL      C      D     STD  AAPL   \n",
      "157   1690  2024-06-30    2024     3    9   INDL      C      D     STD  AAPL   \n",
      "158   1690  2024-09-30    2024     4    9   INDL      C      D     STD  AAPL   \n",
      "159   1690  2024-12-31    2025     1    9   INDL      C      D     STD  AAPL   \n",
      "\n",
      "     ... curcdq datacqtr datafqtr       atq     dlcq    dlttq      lseq  \\\n",
      "80   ...    USD   2005Q1   2005Q2   10111.0      0.0      0.0   10111.0   \n",
      "81   ...    USD   2005Q2   2005Q3   10488.0      0.0      0.0   10488.0   \n",
      "82   ...    USD   2005Q3   2005Q4   11551.0      0.0      0.0   11551.0   \n",
      "83   ...    USD   2005Q4   2006Q1   14181.0      0.0      0.0   14181.0   \n",
      "84   ...    USD   2006Q1   2006Q2   13911.0      0.0      0.0   13911.0   \n",
      "..   ...    ...      ...      ...       ...      ...      ...       ...   \n",
      "155  ...    USD   2023Q4   2024Q1  353514.0  12952.0  95088.0  353514.0   \n",
      "156  ...    USD   2024Q1   2024Q2  337411.0  12759.0  91831.0  337411.0   \n",
      "157  ...    USD   2024Q2   2024Q3  331612.0  15108.0  86196.0  331612.0   \n",
      "158  ...    USD   2024Q3   2024Q4  364980.0  22511.0  96548.0  364980.0   \n",
      "159  ...    USD   2024Q4   2025Q1  344085.0  12843.0  83956.0  344085.0   \n",
      "\n",
      "     exchg  costat       date  \n",
      "80      14       A 2005-03-31  \n",
      "81      14       A 2005-06-30  \n",
      "82      14       A 2005-09-30  \n",
      "83      14       A 2005-12-31  \n",
      "84      14       A 2006-03-31  \n",
      "..     ...     ...        ...  \n",
      "155     14       A 2023-12-31  \n",
      "156     14       A 2024-03-31  \n",
      "157     14       A 2024-06-30  \n",
      "158     14       A 2024-09-30  \n",
      "159     14       A 2024-12-31  \n",
      "\n",
      "[80 rows x 21 columns]\n"
     ]
    }
   ],
   "source": [
    "print(fundamentals_sorted.loc[fundamentals_sorted['tic'] == 'AAPL'])"
   ]
  },
  {
   "cell_type": "code",
   "execution_count": 12,
   "id": "ac35d454",
   "metadata": {},
   "outputs": [],
   "source": [
    "merged_list = []\n",
    "\n",
    "for ticker in prices_sorted['tic'].unique():\n",
    "    price_sub = prices_sorted[prices_sorted['tic'] == ticker].copy()\n",
    "    fin_sub = fundamentals_sorted[fundamentals_sorted['tic'] == ticker].copy()\n",
    "\n",
    "    if not price_sub.empty and not fin_sub.empty:\n",
    "        merged = pd.merge_asof(\n",
    "            price_sub.sort_values('date'),\n",
    "            fin_sub.sort_values('date'),\n",
    "            left_on='date',\n",
    "            right_on='date',\n",
    "            direction='backward'\n",
    "        )\n",
    "        merged_list.append(merged)\n",
    "\n",
    "merged_df = pd.concat(merged_list, ignore_index=True)\n",
    "\n",
    "cleaned_df = merged_df[['date', 'tic_x', 'price', 'atq', 'dlcq', 'dlttq']]\n",
    "cleaned_df = cleaned_df.dropna()\n",
    "cleaned_df = cleaned_df.rename(columns={'tic_x': 'tic'})"
   ]
  },
  {
   "cell_type": "code",
   "execution_count": 13,
   "id": "b02f32f5",
   "metadata": {},
   "outputs": [
    {
     "name": "stdout",
     "output_type": "stream",
     "text": [
      "Index(['date', 'tic', 'price', 'atq', 'dlcq', 'dlttq'], dtype='object')\n"
     ]
    }
   ],
   "source": [
    "print(cleaned_df.columns)\n"
   ]
  }
 ],
 "metadata": {
  "kernelspec": {
   "display_name": "base",
   "language": "python",
   "name": "python3"
  },
  "language_info": {
   "codemirror_mode": {
    "name": "ipython",
    "version": 3
   },
   "file_extension": ".py",
   "mimetype": "text/x-python",
   "name": "python",
   "nbconvert_exporter": "python",
   "pygments_lexer": "ipython3",
   "version": "3.12.4"
  }
 },
 "nbformat": 4,
 "nbformat_minor": 5
}
