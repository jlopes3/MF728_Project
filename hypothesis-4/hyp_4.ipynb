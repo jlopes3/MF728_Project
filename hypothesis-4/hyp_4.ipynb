{
 "cells": [
  {
   "cell_type": "markdown",
   "id": "2b06e838",
   "metadata": {},
   "source": [
    "### Hypothesis 4: Merton Model default probabilities correlate with observed CDS spreads."
   ]
  },
  {
   "cell_type": "markdown",
   "id": "dde4278b",
   "metadata": {},
   "source": [
    "# DELETE LATER\n",
    "Expected Result: positive correlation\n"
   ]
  }
 ],
 "metadata": {
  "language_info": {
   "name": "python"
  }
 },
 "nbformat": 4,
 "nbformat_minor": 5
}
