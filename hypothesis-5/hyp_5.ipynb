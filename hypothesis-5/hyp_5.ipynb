{
 "cells": [
  {
   "cell_type": "markdown",
   "id": "07c2ef69",
   "metadata": {},
   "source": [
    "### Hypothesis 5: Stress tests show PD sensitivity to leverage, asset volatility, and interest rates."
   ]
  },
  {
   "cell_type": "markdown",
   "id": "95e840b0",
   "metadata": {},
   "source": [
    "Basic Idea:\n",
    "- choose firms\n",
    "- find baseline pd\n",
    "- choose stress scenarios\n",
    "    - 10% change in debt\n",
    "    - 20% change in volatility\n",
    "    - 1% change in interest rate\n",
    "    - different combinations of stress scenarios\n",
    "- calculate pd in stress scenarios\n",
    "- calculate pd delta for each stress scenario\n",
    "- use metrics like mean delta pd, % delta pd, or correlation to see sensitivity levels"
   ]
  }
 ],
 "metadata": {
  "language_info": {
   "name": "python"
  }
 },
 "nbformat": 4,
 "nbformat_minor": 5
}
