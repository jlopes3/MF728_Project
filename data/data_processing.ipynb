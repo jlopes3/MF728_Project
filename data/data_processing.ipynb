{
 "cells": [
  {
   "cell_type": "code",
   "execution_count": 21,
   "id": "35223dc7",
   "metadata": {},
   "outputs": [],
   "source": [
    "import pandas as pd\n",
    "import numpy as np"
   ]
  },
  {
   "cell_type": "markdown",
   "id": "cc94dfb1",
   "metadata": {},
   "source": [
    "## Merging together the stock price data with the firm fundamental data."
   ]
  },
  {
   "cell_type": "code",
   "execution_count": 22,
   "id": "182f13b2",
   "metadata": {},
   "outputs": [],
   "source": [
    "prices_df = pd.read_csv(\"daily_prices.csv\")\n",
    "prices_df = prices_df.rename(columns={'TICKER': 'tic'})\n",
    "fundamentals_df = pd.read_csv(\"financial_raw_data.csv\")"
   ]
  },
  {
   "cell_type": "code",
   "execution_count": 23,
   "id": "778a38be",
   "metadata": {},
   "outputs": [],
   "source": [
    "prices_df = prices_df[~prices_df['tic'].isin(['AAL', 'DAL'])]"
   ]
  },
  {
   "cell_type": "code",
   "execution_count": 24,
   "id": "57d8dad3",
   "metadata": {},
   "outputs": [],
   "source": [
    "prices_df['date'] = pd.to_datetime(prices_df['date'])\n",
    "fundamentals_df['date'] = pd.to_datetime(fundamentals_df['datadate'])"
   ]
  },
  {
   "cell_type": "code",
   "execution_count": 25,
   "id": "d4c2c385",
   "metadata": {},
   "outputs": [],
   "source": [
    "prices_sorted = prices_df.sort_values(by=['tic', 'date']).reset_index(drop=True)\n",
    "fundamentals_sorted = fundamentals_df.sort_values(by=['tic', 'date']).reset_index(drop=True)"
   ]
  },
  {
   "cell_type": "code",
   "execution_count": 26,
   "id": "ac35d454",
   "metadata": {},
   "outputs": [],
   "source": [
    "merged_list = []\n",
    "\n",
    "for ticker in prices_sorted['tic'].unique():\n",
    "    price_sub = prices_sorted[prices_sorted['tic'] == ticker].copy()\n",
    "    fin_sub = fundamentals_sorted[fundamentals_sorted['tic'] == ticker].copy()\n",
    "\n",
    "    if not price_sub.empty and not fin_sub.empty:\n",
    "        merged = pd.merge_asof(\n",
    "            price_sub.sort_values('date'),\n",
    "            fin_sub.sort_values('date'),\n",
    "            left_on='date',\n",
    "            right_on='date',\n",
    "            direction='backward'\n",
    "        )\n",
    "        merged_list.append(merged)\n",
    "\n",
    "merged_df = pd.concat(merged_list, ignore_index=True)\n",
    "\n",
    "cleaned_df = merged_df[['date', 'tic_x', 'PRC', 'atq', 'dlcq', 'dlttq', 'SHROUT']]\n",
    "cleaned_df = cleaned_df.dropna()\n",
    "cleaned_df = cleaned_df.rename(columns={'tic_x': 'tic'})\n",
    "df = cleaned_df"
   ]
  },
  {
   "cell_type": "code",
   "execution_count": 27,
   "id": "734efd2d",
   "metadata": {},
   "outputs": [
    {
     "name": "stdout",
     "output_type": "stream",
     "text": [
      "            date   tic    PRC       atq    dlcq     dlttq     SHROUT\n",
      "0     2005-01-03  AAPL  63.29    9362.0     0.0       0.0   404549.0\n",
      "1     2005-01-04  AAPL  63.94    9362.0     0.0       0.0   404549.0\n",
      "2     2005-01-05  AAPL  64.50    9362.0     0.0       0.0   404549.0\n",
      "3     2005-01-06  AAPL  64.55    9362.0     0.0       0.0   404549.0\n",
      "4     2005-01-07  AAPL  69.25    9362.0     0.0       0.0   404549.0\n",
      "...          ...   ...    ...       ...     ...       ...        ...\n",
      "83222 2024-12-24     T  22.95  393719.0  2637.0  143706.0  7175289.0\n",
      "83223 2024-12-26     T  22.96  393719.0  2637.0  143706.0  7175289.0\n",
      "83224 2024-12-27     T  22.86  393719.0  2637.0  143706.0  7175289.0\n",
      "83225 2024-12-30     T  22.61  393719.0  2637.0  143706.0  7175289.0\n",
      "83226 2024-12-31     T  22.77  394795.0  8622.0  135834.0  7175289.0\n",
      "\n",
      "[79523 rows x 7 columns]\n"
     ]
    }
   ],
   "source": [
    "print(cleaned_df)"
   ]
  },
  {
   "cell_type": "markdown",
   "id": "cb77b663",
   "metadata": {},
   "source": [
    "## Calculating market cap, leverage, log returns, and annualized equity volatility for a rolling 252 day window. Standardizing units from millions of USD to USD."
   ]
  },
  {
   "cell_type": "code",
   "execution_count": 28,
   "id": "93015aa6",
   "metadata": {},
   "outputs": [],
   "source": [
    "df['market_cap'] = df['PRC'] * df['SHROUT'] * 1000  # PRC in dollars, SHROUT in thousands"
   ]
  },
  {
   "cell_type": "code",
   "execution_count": null,
   "id": "f590a6c5",
   "metadata": {},
   "outputs": [],
   "source": [
    "df['dlcq'] = df['dlcq'] * 1000000\n",
    "df['dlttq'] = df['dlttq'] * 1000000\n",
    "df['atq'] = df['atq'] * 1000000\n",
    "\n",
    "# MAY WANT TO WEIGHT LONG TERM AND SHORT TERM DEBT\n",
    "df['total_debt'] = (df['dlcq'] + df['dlttq'])"
   ]
  },
  {
   "cell_type": "code",
   "execution_count": 30,
   "id": "64c7a325",
   "metadata": {},
   "outputs": [],
   "source": [
    "df['leverage'] = (df['dlcq'] + df['dlttq']) / df['atq']"
   ]
  },
  {
   "cell_type": "code",
   "execution_count": 31,
   "id": "e8486114",
   "metadata": {},
   "outputs": [],
   "source": [
    "df = df.sort_values(by=['tic', 'date'])\n",
    "df['log_return'] = df.groupby('tic')['PRC'].transform(lambda x: np.log(x / x.shift(1)))"
   ]
  },
  {
   "cell_type": "code",
   "execution_count": 32,
   "id": "6fe63513",
   "metadata": {},
   "outputs": [],
   "source": [
    "df['equity_volatility'] = df.groupby('tic')['log_return'].rolling(window=252).std().reset_index(level=0, drop=True) * np.sqrt(252)"
   ]
  },
  {
   "cell_type": "markdown",
   "id": "741c726f",
   "metadata": {},
   "source": [
    "## Adding 10 year treasury data. Forward filling for missing dates."
   ]
  },
  {
   "cell_type": "code",
   "execution_count": 33,
   "id": "fbf2ab86",
   "metadata": {},
   "outputs": [],
   "source": [
    "df = df.dropna()"
   ]
  },
  {
   "cell_type": "code",
   "execution_count": 34,
   "id": "c62dfda8",
   "metadata": {},
   "outputs": [],
   "source": [
    "rf_df = pd.read_csv(\"TreasuryRaw.csv\")"
   ]
  },
  {
   "cell_type": "code",
   "execution_count": 35,
   "id": "2ce612b8",
   "metadata": {},
   "outputs": [],
   "source": [
    "rf_df['date'] = pd.to_datetime(rf_df['observation_date'])"
   ]
  },
  {
   "cell_type": "code",
   "execution_count": 36,
   "id": "bdeee8ce",
   "metadata": {},
   "outputs": [],
   "source": [
    "rf_df['DGS10'] = rf_df['DGS10'].ffill()"
   ]
  },
  {
   "cell_type": "code",
   "execution_count": 37,
   "id": "d9d16875",
   "metadata": {},
   "outputs": [],
   "source": [
    "df = pd.merge(rf_df, df, on=\"date\", how=\"inner\")"
   ]
  },
  {
   "cell_type": "markdown",
   "id": "2d48fddd",
   "metadata": {},
   "source": [
    "## Selecting necessary columns and writing to csv."
   ]
  },
  {
   "cell_type": "code",
   "execution_count": 38,
   "id": "ae020d82",
   "metadata": {},
   "outputs": [],
   "source": [
    "df = df[['date', 'tic', 'PRC', 'atq', 'dlcq', 'dlttq', 'SHROUT', 'market_cap',\n",
    "       'total_debt', 'leverage', 'log_return', 'equity_volatility', 'DGS10']]\n",
    "df = df.rename(columns={'DGS10': 'rf'})\n",
    "df = df.sort_values(by=['tic', 'date'])\n"
   ]
  },
  {
   "cell_type": "code",
   "execution_count": 39,
   "id": "7193ef7a",
   "metadata": {},
   "outputs": [
    {
     "name": "stdout",
     "output_type": "stream",
     "text": [
      "            date   tic    PRC           atq          dlcq         dlttq  \\\n",
      "0     2006-01-03  AAPL  74.75  1.418100e+10  0.000000e+00  0.000000e+00   \n",
      "9     2006-01-04  AAPL  74.97  1.418100e+10  0.000000e+00  0.000000e+00   \n",
      "18    2006-01-05  AAPL  74.38  1.418100e+10  0.000000e+00  0.000000e+00   \n",
      "27    2006-01-06  AAPL  76.30  1.418100e+10  0.000000e+00  0.000000e+00   \n",
      "36    2006-01-09  AAPL  76.05  1.418100e+10  0.000000e+00  0.000000e+00   \n",
      "...          ...   ...    ...           ...           ...           ...   \n",
      "75173 2024-12-24     T  22.95  3.937190e+11  2.637000e+09  1.437060e+11   \n",
      "75189 2024-12-26     T  22.96  3.937190e+11  2.637000e+09  1.437060e+11   \n",
      "75205 2024-12-27     T  22.86  3.937190e+11  2.637000e+09  1.437060e+11   \n",
      "75221 2024-12-30     T  22.61  3.937190e+11  2.637000e+09  1.437060e+11   \n",
      "75238 2024-12-31     T  22.77  3.947950e+11  8.622000e+09  1.358340e+11   \n",
      "\n",
      "          SHROUT    market_cap    total_debt  leverage  log_return  \\\n",
      "0       845617.0  6.320987e+10  0.000000e+00  0.000000    0.039012   \n",
      "9       845617.0  6.339591e+10  0.000000e+00  0.000000    0.002939   \n",
      "18      845617.0  6.289699e+10  0.000000e+00  0.000000   -0.007901   \n",
      "27      845617.0  6.452058e+10  0.000000e+00  0.000000    0.025486   \n",
      "36      845617.0  6.430917e+10  0.000000e+00  0.000000   -0.003282   \n",
      "...          ...           ...           ...       ...         ...   \n",
      "75173  7175289.0  1.646729e+11  1.463430e+11  0.371694    0.004805   \n",
      "75189  7175289.0  1.647446e+11  1.463430e+11  0.371694    0.000436   \n",
      "75205  7175289.0  1.640271e+11  1.463430e+11  0.371694   -0.004365   \n",
      "75221  7175289.0  1.622333e+11  1.463430e+11  0.371694   -0.010996   \n",
      "75238  7175289.0  1.633813e+11  1.444560e+11  0.365901    0.007052   \n",
      "\n",
      "       equity_volatility    rf  \n",
      "0               0.790549  4.37  \n",
      "9               0.790494  4.36  \n",
      "18              0.790498  4.36  \n",
      "27              0.790891  4.38  \n",
      "36              0.787805  4.38  \n",
      "...                  ...   ...  \n",
      "75173           0.205971  4.59  \n",
      "75189           0.205973  4.58  \n",
      "75205           0.206050  4.62  \n",
      "75221           0.206243  4.55  \n",
      "75238           0.206323  4.58  \n",
      "\n",
      "[75239 rows x 13 columns]\n"
     ]
    }
   ],
   "source": [
    "print(df)"
   ]
  },
  {
   "cell_type": "code",
   "execution_count": 40,
   "id": "cb9ecccb",
   "metadata": {},
   "outputs": [],
   "source": [
    "df.to_csv(\"clean_data.csv\", index=False)"
   ]
  }
 ],
 "metadata": {
  "kernelspec": {
   "display_name": "base",
   "language": "python",
   "name": "python3"
  },
  "language_info": {
   "codemirror_mode": {
    "name": "ipython",
    "version": 3
   },
   "file_extension": ".py",
   "mimetype": "text/x-python",
   "name": "python",
   "nbconvert_exporter": "python",
   "pygments_lexer": "ipython3",
   "version": "3.12.4"
  }
 },
 "nbformat": 4,
 "nbformat_minor": 5
}
