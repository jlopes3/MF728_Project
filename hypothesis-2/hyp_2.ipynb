{
 "cells": [
  {
   "cell_type": "markdown",
   "id": "cb8d4271",
   "metadata": {},
   "source": [
    "### Hypothesis 2: Firms with higher systemic risk experience higher default probabilities during market downturns."
   ]
  },
  {
   "cell_type": "markdown",
   "id": "9e8ceea2",
   "metadata": {},
   "source": [
    "# DELETE LATER\n",
    "\n",
    "Basic idea:\n",
    "- estimate beta of each firm vs market (probably use SPY returns for the market)\n",
    "- define two market downturn periods as:\n",
    "    -  Global Financial Crisis: September 1, 2008 to March 30, 2009\n",
    "    -  COVID: February 20, 2020 to April 30, 2020\n",
    "- calculate the mean pd during each crisis period\n",
    "- look at correlation between beta and pd \\\n",
    "Expected result: positive and statistically significant correlation\n"
   ]
  },
  {
   "cell_type": "code",
   "execution_count": 1,
   "id": "f59dce4d",
   "metadata": {},
   "outputs": [],
   "source": [
    "import pandas as pd\n",
    "import numpy as np\n",
    "import statsmodels.api as sm"
   ]
  },
  {
   "cell_type": "code",
   "execution_count": 2,
   "id": "1fcca838",
   "metadata": {},
   "outputs": [],
   "source": [
    "SPY = pd.read_csv('SPY.csv')\n",
    "SPY['log_market_return'] = np.log(SPY['PRC'] / SPY['PRC'].shift(1))\n",
    "SPY = SPY.rename(columns={'PRC': 'SPY PRC'})\n",
    "SPY = SPY[['date', 'SPY PRC', 'log_market_return']]\n",
    "df= pd.read_csv('../model/merton_model_output.csv')\n",
    "df = pd.merge(df, SPY, how=\"left\")\n",
    "df['log_E'] = np.log(df['market_cap'])"
   ]
  },
  {
   "cell_type": "code",
   "execution_count": 3,
   "id": "4f8791c8",
   "metadata": {},
   "outputs": [],
   "source": [
    "beta_list = []\n",
    "for tic, group in df.groupby('tic'):\n",
    "    group = group.sort_values('date')\n",
    "    try:\n",
    "        X = sm.add_constant(group['log_market_return'])\n",
    "        y = group['log_E']\n",
    "        model = sm.OLS(y, X).fit()\n",
    "        beta = model.params['log_market_return']\n",
    "        beta_list.append({'tic': tic, 'beta': beta})\n",
    "    except:\n",
    "        continue\n",
    "\n",
    "beta_df = pd.DataFrame(beta_list)"
   ]
  },
  {
   "cell_type": "code",
   "execution_count": 4,
   "id": "fee808ed",
   "metadata": {},
   "outputs": [
    {
     "name": "stdout",
     "output_type": "stream",
     "text": [
      "Correlation: -0.026292101508091248\n",
      "                            OLS Regression Results                            \n",
      "==============================================================================\n",
      "Dep. Variable:          avg_crisis_pd   R-squared:                       0.001\n",
      "Model:                            OLS   Adj. R-squared:                 -0.010\n",
      "Method:                 Least Squares   F-statistic:                   0.06364\n",
      "Date:                Mon, 28 Apr 2025   Prob (F-statistic):              0.801\n",
      "Time:                        12:51:26   Log-Likelihood:                 99.075\n",
      "No. Observations:                  94   AIC:                            -194.2\n",
      "Df Residuals:                      92   BIC:                            -189.1\n",
      "Df Model:                           1                                         \n",
      "Covariance Type:            nonrobust                                         \n",
      "==============================================================================\n",
      "                 coef    std err          t      P>|t|      [0.025      0.975]\n",
      "------------------------------------------------------------------------------\n",
      "const          0.0296      0.016      1.896      0.061      -0.001       0.061\n",
      "beta          -0.0033      0.013     -0.252      0.801      -0.029       0.023\n",
      "==============================================================================\n",
      "Omnibus:                      128.592   Durbin-Watson:                   1.817\n",
      "Prob(Omnibus):                  0.000   Jarque-Bera (JB):             3047.093\n",
      "Skew:                           4.791   Prob(JB):                         0.00\n",
      "Kurtosis:                      29.195   Cond. No.                         3.30\n",
      "==============================================================================\n",
      "\n",
      "Notes:\n",
      "[1] Standard Errors assume that the covariance matrix of the errors is correctly specified.\n"
     ]
    }
   ],
   "source": [
    "crisis_mask = (\n",
    "    ((df['date'] >= '2008-09-01') & (df['date'] <= '2009-03-31')) |\n",
    "    ((df['date'] >= '2020-02-20') & (df['date'] <= '2020-04-30'))\n",
    ")\n",
    "crisis_avg_pd = df[crisis_mask].groupby('tic')['merton_pd'].mean().reset_index()\n",
    "crisis_avg_pd.rename(columns={'merton_pd': 'avg_crisis_pd'}, inplace=True)\n",
    "\n",
    "merged = pd.merge(beta_df, crisis_avg_pd, on='tic')\n",
    "print(\"Correlation:\", merged['beta'].corr(merged['avg_crisis_pd']))\n",
    "\n",
    "X = sm.add_constant(merged['beta'])\n",
    "y = merged['avg_crisis_pd']\n",
    "model = sm.OLS(y, X).fit()\n",
    "print(model.summary())\n"
   ]
  }
 ],
 "metadata": {
  "kernelspec": {
   "display_name": "base",
   "language": "python",
   "name": "python3"
  },
  "language_info": {
   "codemirror_mode": {
    "name": "ipython",
    "version": 3
   },
   "file_extension": ".py",
   "mimetype": "text/x-python",
   "name": "python",
   "nbconvert_exporter": "python",
   "pygments_lexer": "ipython3",
   "version": "3.12.4"
  }
 },
 "nbformat": 4,
 "nbformat_minor": 5
}
