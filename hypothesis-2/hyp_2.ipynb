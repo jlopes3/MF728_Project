{
 "cells": [
  {
   "cell_type": "markdown",
   "id": "cb8d4271",
   "metadata": {},
   "source": [
    "### Hypothesis 2: Firms with higher systemic risk experience higher default probabilities during market downturns."
   ]
  },
  {
   "cell_type": "markdown",
   "id": "9e8ceea2",
   "metadata": {},
   "source": [
    "# DELETE LATER\n",
    "\n",
    "Basic idea:\n",
    "- estimate beta of each firm vs market (probably use SPY returns for the market)\n",
    "- define two market downturn periods as:\n",
    "    -  Global Financial Crisis: September 1, 2008 to March 30, 2009\n",
    "    -  COVID: February 20, 2020 to April 30, 2020\n",
    "- calculate the mean pd during each crisis period\n",
    "- look at correlation between beta and pd \\\n",
    "Expected result: positive and statistically significant correlation\n"
   ]
  }
 ],
 "metadata": {
  "language_info": {
   "name": "python"
  }
 },
 "nbformat": 4,
 "nbformat_minor": 5
}
