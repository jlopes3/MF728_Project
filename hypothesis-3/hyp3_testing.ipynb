{
 "cells": [
  {
   "cell_type": "markdown",
   "id": "2b06e838",
   "metadata": {},
   "source": [
    "### Hypothesis 3: Idiosyncratic risk impacts default probability differently than systemic risk."
   ]
  },
  {
   "cell_type": "markdown",
   "id": "dde4278b",
   "metadata": {},
   "source": [
    "# DELETE LATER\n",
    "Basic Idea:\n",
    "- $ R_{firm} = \\alpha + \\beta R_{market} + \\epsilon $\n",
    "- $ \\beta $ is systemic risk\n",
    "- std($\\epsilon$) is idiosyncratic volatility which can be used as a proxy for idiosyncratic risk\n",
    "- take average PD for each firm\n",
    "- $PD_i = \\alpha + \\beta_1 Systemic_i + \\beta_2 Idiosyncratic_i + \\epsilon_i $ \\\n",
    "Expected result: both betas to be positive. Beta 1 to be larger.\n"
   ]
  }
 ],
 "metadata": {
  "language_info": {
   "name": "python"
  }
 },
 "nbformat": 4,
 "nbformat_minor": 5
}
