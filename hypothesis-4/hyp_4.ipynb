{
 "cells": [
  {
   "cell_type": "markdown",
   "id": "2b06e838",
   "metadata": {},
   "source": [
    "### Hypothesis 4: Merton Model default probabilities correlate with observed CDS spreads.\n",
    "\n",
    "### Probably now should be looking to see how merton model probs compare to bloomberg probs"
   ]
  },
  {
   "cell_type": "markdown",
   "id": "dde4278b",
   "metadata": {},
   "source": [
    "# DELETE LATER\n",
    "Expected Result: positive correlation\n"
   ]
  }
 ],
 "metadata": {
  "kernelspec": {
   "display_name": "base",
   "language": "python",
   "name": "python3"
  },
  "language_info": {
   "codemirror_mode": {
    "name": "ipython",
    "version": 3
   },
   "file_extension": ".py",
   "mimetype": "text/x-python",
   "name": "python",
   "nbconvert_exporter": "python",
   "pygments_lexer": "ipython3",
   "version": "3.12.4"
  }
 },
 "nbformat": 4,
 "nbformat_minor": 5
}
