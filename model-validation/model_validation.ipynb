{
 "cells": [
  {
   "cell_type": "markdown",
   "id": "2b06e838",
   "metadata": {},
   "source": [
    "### Model Validation: Merton Model default probabilities correlate with observed CDS spreads.\n",
    "\n",
    "### Probably now should be looking to see how merton model probs compare to bloomberg probs"
   ]
  },
  {
   "cell_type": "markdown",
   "id": "dde4278b",
   "metadata": {},
   "source": [
    "# DELETE LATER\n",
    "Expected Result: positive correlation\n"
   ]
  },
  {
   "cell_type": "code",
   "execution_count": 25,
   "id": "cc7c5e4d-a270-4943-abdc-1bfc92569f58",
   "metadata": {},
   "outputs": [],
   "source": [
    "import pandas as pd\n",
    "import numpy as np\n",
    "from scipy.stats import pearsonr, spearmanr\n",
    "from sklearn.metrics import roc_auc_score"
   ]
  },
  {
   "cell_type": "code",
   "execution_count": null,
   "id": "53c77c90-343b-4add-8b8c-c7f50534e8ae",
   "metadata": {},
   "outputs": [],
   "source": [
    "df= pd.read_csv('../model/merton_model_output.csv')\n",
    "df_valid = df[df['merton_pd'].notna()].copy()\n",
    "df_valid['log_E'] = np.log(df_valid['market_cap'])"
   ]
  },
  {
   "cell_type": "code",
   "execution_count": null,
   "id": "00514daa-95ee-4c32-b81a-030b81c72346",
   "metadata": {},
   "outputs": [
    {
     "name": "stderr",
     "output_type": "stream",
     "text": [
      "C:\\Users\\tkpma\\AppData\\Local\\Temp\\ipykernel_15916\\3660149276.py:1: DtypeWarning: Columns (4,6,20,22,24,26,28,34,36,38,40,42,44,46,48,50,54,58,60,62,64,66,68,72,92,94,104,106,112,114,120,126,128,132,134,136,140,146,150,152,156,158,166,168,178,182,186) have mixed types. Specify dtype option on import or set low_memory=False.\n",
      "  bb_pd = pd.read_csv('../hypothesis-4/DEFAULT.csv')\n"
     ]
    }
   ],
   "source": [
    "bb_pd = pd.read_csv('./DEFAULT.csv')"
   ]
  },
  {
   "cell_type": "markdown",
   "id": "80215e1a-4594-4d69-8d88-4ca1552d429d",
   "metadata": {},
   "source": [
    "Organize Bloomberg Data into a usable df"
   ]
  },
  {
   "cell_type": "code",
   "execution_count": 7,
   "id": "cb3d9910-92b4-4e1a-8f0a-808929cc25e7",
   "metadata": {},
   "outputs": [],
   "source": [
    "empirical_probs = pd.DataFrame()\n",
    "empirical_probs.index = bb_pd['Date']\n",
    "empirical_probs.index.values[0] = '1/3/2005'\n",
    "empirical_probs.index = pd.to_datetime(empirical_probs.index, format='%m/%d/%Y')\n",
    "filtered_cols = [col for col in bb_pd.columns if 'Date' not in col]\n",
    "empirical_probs[bb_pd[filtered_cols].columns] = bb_pd[filtered_cols].values\n",
    "empirical_probs = empirical_probs.dropna(axis=1)"
   ]
  },
  {
   "cell_type": "markdown",
   "id": "6b2161d5-8b1e-4767-a9a2-fcc0b1c6b119",
   "metadata": {},
   "source": [
    "Organize Merton Model"
   ]
  },
  {
   "cell_type": "code",
   "execution_count": 9,
   "id": "101c1fc6-dd28-4ed5-b4d8-89f6722382da",
   "metadata": {},
   "outputs": [],
   "source": [
    "merton = pd.DataFrame()\n",
    "merton[empirical_probs.columns] = empirical_probs.columns\n",
    "for col in merton.columns:\n",
    "    matches = df_valid.loc[df_valid['tic'] == col, 'merton_pd'].reset_index(drop=True)\n",
    "    merton[col] = matches\n",
    "\n",
    "merton.index = empirical_probs.index"
   ]
  },
  {
   "cell_type": "code",
   "execution_count": 10,
   "id": "5fa0649f-d24a-4de4-b229-59d9c20899ad",
   "metadata": {},
   "outputs": [],
   "source": [
    "combined = pd.concat([empirical_probs, merton], axis=1, keys=['Empirical','Model']).swaplevel(axis=1).sort_index(axis=1)\n"
   ]
  },
  {
   "cell_type": "markdown",
   "id": "1207eb17-6832-4fbf-8feb-5c6f3458452f",
   "metadata": {},
   "source": [
    "Compute Correlation Coefficient between Model and Empirical Data"
   ]
  },
  {
   "cell_type": "code",
   "execution_count": 21,
   "id": "94406922-0089-4b50-93c3-2eddd90562e8",
   "metadata": {},
   "outputs": [],
   "source": [
    "x = empirical_probs.values.flatten()\n",
    "y = merton.values.flatten()\n",
    "mask = ~ np.isnan(x) & ~np.isnan(y)\n",
    "\n",
    "spearman_corr, p_value = spearmanr(x[mask],y[mask])"
   ]
  },
  {
   "cell_type": "code",
   "execution_count": 23,
   "id": "5fc686f2-5720-4a36-b4a5-0690b8c3ce5d",
   "metadata": {},
   "outputs": [
    {
     "data": {
      "text/plain": [
       "np.float64(0.4989079543287979)"
      ]
     },
     "execution_count": 23,
     "metadata": {},
     "output_type": "execute_result"
    }
   ],
   "source": [
    "spearman_corr"
   ]
  },
  {
   "cell_type": "code",
   "execution_count": null,
   "id": "a176c96b-5112-490d-901c-763fa2e1a70c",
   "metadata": {},
   "outputs": [],
   "source": []
  },
  {
   "cell_type": "code",
   "execution_count": null,
   "id": "ae6d653d-d589-4b9d-a9d7-faaf978f98a6",
   "metadata": {},
   "outputs": [],
   "source": []
  }
 ],
 "metadata": {
  "kernelspec": {
   "display_name": "Python [conda env:base] *",
   "language": "python",
   "name": "conda-base-py"
  },
  "language_info": {
   "codemirror_mode": {
    "name": "ipython",
    "version": 3
   },
   "file_extension": ".py",
   "mimetype": "text/x-python",
   "name": "python",
   "nbconvert_exporter": "python",
   "pygments_lexer": "ipython3",
   "version": "3.12.3"
  }
 },
 "nbformat": 4,
 "nbformat_minor": 5
}
