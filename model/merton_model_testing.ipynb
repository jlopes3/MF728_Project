{
 "cells": [
  {
   "cell_type": "markdown",
   "id": "cb663424",
   "metadata": {},
   "source": [
    "## Merton Model Testing - Ryan ##"
   ]
  },
  {
   "cell_type": "code",
   "execution_count": 1,
   "id": "435ffa54",
   "metadata": {},
   "outputs": [],
   "source": [
    "import pandas as pd\n",
    "import numpy as np\n",
    "from scipy.stats import norm\n",
    "from scipy.optimize import minimize, root, differential_evolution\n",
    "import matplotlib.pyplot as plt\n"
   ]
  },
  {
   "cell_type": "code",
   "execution_count": 2,
   "id": "8d4327cf",
   "metadata": {},
   "outputs": [
    {
     "data": {
      "text/plain": [
       "'\\n    if result.success:\\n        V_opt, sigma_V_opt = result.x\\n        d2 = (np.log(V_opt / D) + (r - 0.5 * sigma_V_opt ** 2) * T) / (sigma_V_opt * np.sqrt(T))\\n        pd = norm.cdf(-d2)\\n        return pd\\n    else:\\n        return np.nan'"
      ]
     },
     "execution_count": 2,
     "metadata": {},
     "output_type": "execute_result"
    }
   ],
   "source": [
    "def compute_merton_pd_new(E, sigma_E, D, r, T=1.0, debug = False, plot_mesh = False):\n",
    "    # Bad input\n",
    "    if E <= 0 or r < 0:\n",
    "        return np.nan\n",
    "    \n",
    "    # Shortcut: if leverage is very low and sigma_E is not high, assume PD ≈ 0 to avoid solver convergence issues\n",
    "    if (D == 0) or (sigma_E == 0) or ((D / E < 0.2) and (sigma_E < 0.6)):\n",
    "        return 0.0\n",
    "    \n",
    "    # Clip to aid the solver\n",
    "    sigma_E = np.clip(sigma_E, 0.05, 2.0)\n",
    "    \n",
    "    # Sqared residuals from first two equations\n",
    "    def equations(vars):\n",
    "        V, sigma_V = vars\n",
    "        if V <= 0 or sigma_V <= 0:\n",
    "            #print('First Exception')\n",
    "            return [1e10, 10]  # large penalty for invalid values\n",
    "        try:\n",
    "            d1 = (np.log(V / D) + (r + 0.5 * sigma_V**2) * T) / (sigma_V * np.sqrt(T))\n",
    "            d2 = d1 - sigma_V * np.sqrt(T)\n",
    "            eq1 = V * norm.cdf(d1) - D * np.exp(-r * T) * norm.cdf(d2) - E\n",
    "            eq2 = (V / E) * norm.cdf(d1) * sigma_V - sigma_E\n",
    "            #print(V, sigma_V)\n",
    "            return [eq1, eq2]\n",
    "        except:\n",
    "            #print('Last Exception')\n",
    "            return [1e10, 10]\n",
    "        \n",
    "    \"\"\"V0 = max(E + D, 1e6)\n",
    "    sigma_V0 = np.clip(sigma_E * 0.9, 0.05, 2.0)\n",
    "    bounds = [(1e6, 1e14), (0.01, 2.0)]\n",
    "    result = differential_evolution(equations, bounds = bounds, maxiter=1000)\n",
    "    if debug == True:\n",
    "        print(result)\"\"\"\n",
    "    \n",
    "    \n",
    "    V_range = np.linspace(E + 0.1 * D, E + 5 * D, 100)\n",
    "    sigma_V_range = np.linspace(0.05, 1.5, 100)\n",
    "    residual_grid = np.zeros((len(sigma_V_range), len(V_range)))\n",
    "\n",
    "    best_sol = None\n",
    "    best_residual = np.inf\n",
    "\n",
    "    for i, sigma_V0 in enumerate(sigma_V_range):\n",
    "        for j, V0 in enumerate(V_range):\n",
    "            result = root(equations, x0=[V0, sigma_V0], method='lm')\n",
    "            if result.success:\n",
    "                residual = np.linalg.norm(result.fun)\n",
    "                residual_grid[i, j] = residual\n",
    "                if residual < best_residual:\n",
    "                    best_residual = residual\n",
    "                    best_sol = result.x\n",
    "                    if debug:\n",
    "                        print(f\"New best: residual={residual:.4e}, V0={V0:.2e}, sigma_V0={sigma_V0:.2f}\")\n",
    "            else:\n",
    "                residual_grid[i, j] = np.nan\n",
    "    if debug == True:\n",
    "        print(best_sol)\n",
    "    if plot_mesh:\n",
    "        V_mesh, sigma_V_mesh = np.meshgrid(V_range, sigma_V_range)\n",
    "        fig = plt.figure(figsize=(10, 6))\n",
    "        cp = plt.contourf(V_mesh, sigma_V_mesh, residual_grid, levels=50, cmap='viridis')\n",
    "        plt.colorbar(cp, label='Residual')\n",
    "        plt.xlabel(\"V initial guess\")\n",
    "        plt.ylabel(\"sigma_V initial guess\")\n",
    "        plt.title(\"Residuals Heatmap for Merton Model Calibration\")\n",
    "        plt.tight_layout()\n",
    "        plt.show()\n",
    "\n",
    "    if best_sol is not None:\n",
    "        V_opt, sigma_V_opt = best_sol\n",
    "        d2 = (np.log(V_opt / D) + (r - 0.5 * sigma_V_opt ** 2) * T) / (sigma_V_opt * np.sqrt(T))\n",
    "        return norm.cdf(-d2)\n",
    "    else:\n",
    "        return np.nan\n",
    "\n",
    "\n",
    "\"\"\"\n",
    "    if result.success:\n",
    "        V_opt, sigma_V_opt = result.x\n",
    "        d2 = (np.log(V_opt / D) + (r - 0.5 * sigma_V_opt ** 2) * T) / (sigma_V_opt * np.sqrt(T))\n",
    "        pd = norm.cdf(-d2)\n",
    "        return pd\n",
    "    else:\n",
    "        return np.nan\"\"\""
   ]
  },
  {
   "cell_type": "code",
   "execution_count": 3,
   "id": "4490fda1",
   "metadata": {},
   "outputs": [],
   "source": [
    "def compute_merton_pd_old(E, sigma_E, D, r, T=1.0):\n",
    "    # Bad input\n",
    "    if E <= 0 or r < 0:\n",
    "        return np.nan\n",
    "    \n",
    "    # Shortcut: if leverage is very low and sigma_E is not high, assume PD ≈ 0 to avoid solver convergence issues\n",
    "    if (D == 0) or (sigma_E == 0) or ((D / E < 0.2) and (sigma_E < 0.6)):\n",
    "        return 0.0\n",
    "    \n",
    "    # Clip to aid the solver\n",
    "    sigma_E = np.clip(sigma_E, 0.05, 2.0)\n",
    "    \n",
    "    # Sqared residuals from first two equations\n",
    "    def equations(vars):\n",
    "        V, sigma_V = vars\n",
    "        if V <= 0 or sigma_V <= 0:\n",
    "            return 1e10  # large penalty for invalid values\n",
    "        try:\n",
    "            d1 = (np.log(V / D) + (r + 0.5 * sigma_V**2) * T) / (sigma_V * np.sqrt(T))\n",
    "            d2 = d1 - sigma_V * np.sqrt(T)\n",
    "            eq1 = V * norm.cdf(d1) - D * np.exp(-r * T) * norm.cdf(d2) - E\n",
    "            eq2 = (V / E) * norm.cdf(d1) * sigma_V - sigma_E\n",
    "            print(V, sigma_V)\n",
    "            return eq1**2 + eq2**2\n",
    "        except:\n",
    "            return 1e10\n",
    "\n",
    "    V0 = max(E + D, 1e6)\n",
    "    sigma_V0 = np.clip(sigma_E * 0.9, 0.05, 2.0)\n",
    "    bounds = [(1e6, 1e14), (0.01, 2.0)]\n",
    "    result = minimize(equations, x0=[V0, sigma_V0], bounds=bounds, method='L-BFGS-B', options={'ftol': 1e-3})\n",
    "    print(f\"V, sigma_V: {result.x}\")\n",
    "    print(f\"Residuals: {result.fun}\")\n",
    "    if result.success:\n",
    "        V_opt, sigma_V_opt = result.x\n",
    "        d2 = (np.log(V_opt / D) + (r - 0.5 * sigma_V_opt ** 2) * T) / (sigma_V_opt * np.sqrt(T))\n",
    "        pd = norm.cdf(-d2)\n",
    "        return pd\n",
    "    else:\n",
    "        return np.nan"
   ]
  },
  {
   "cell_type": "code",
   "execution_count": 4,
   "id": "325295a7",
   "metadata": {},
   "outputs": [],
   "source": [
    "merton_data = pd.read_csv(r\"merton_model_output.csv\")"
   ]
  },
  {
   "cell_type": "code",
   "execution_count": 5,
   "id": "e6613934",
   "metadata": {},
   "outputs": [
    {
     "data": {
      "text/plain": [
       "441050"
      ]
     },
     "execution_count": 5,
     "metadata": {},
     "output_type": "execute_result"
    }
   ],
   "source": [
    "merton_data.head()\n",
    "len(merton_data)"
   ]
  },
  {
   "cell_type": "code",
   "execution_count": 6,
   "id": "8e63d067",
   "metadata": {},
   "outputs": [
    {
     "data": {
      "text/plain": [
       "438957"
      ]
     },
     "execution_count": 6,
     "metadata": {},
     "output_type": "execute_result"
    }
   ],
   "source": [
    "merton_data_converged = merton_data[merton_data[\"pd_valid\"] == True]\n",
    "len(merton_data_converged)"
   ]
  },
  {
   "cell_type": "code",
   "execution_count": 5,
   "id": "40118498",
   "metadata": {},
   "outputs": [
    {
     "data": {
      "application/vnd.microsoft.datawrangler.viewer.v0+json": {
       "columns": [
        {
         "name": "index",
         "rawType": "int64",
         "type": "integer"
        },
        {
         "name": "date",
         "rawType": "object",
         "type": "string"
        },
        {
         "name": "permno",
         "rawType": "int64",
         "type": "integer"
        },
        {
         "name": "tic",
         "rawType": "object",
         "type": "string"
        },
        {
         "name": "conm",
         "rawType": "object",
         "type": "string"
        },
        {
         "name": "PRC",
         "rawType": "float64",
         "type": "float"
        },
        {
         "name": "atq",
         "rawType": "float64",
         "type": "float"
        },
        {
         "name": "dlcq",
         "rawType": "float64",
         "type": "float"
        },
        {
         "name": "dlttq",
         "rawType": "float64",
         "type": "float"
        },
        {
         "name": "SHROUT",
         "rawType": "float64",
         "type": "float"
        },
        {
         "name": "market_cap",
         "rawType": "float64",
         "type": "float"
        },
        {
         "name": "total_debt",
         "rawType": "float64",
         "type": "float"
        },
        {
         "name": "leverage",
         "rawType": "float64",
         "type": "float"
        },
        {
         "name": "log_return",
         "rawType": "float64",
         "type": "float"
        },
        {
         "name": "equity_volatility",
         "rawType": "float64",
         "type": "float"
        },
        {
         "name": "rf",
         "rawType": "float64",
         "type": "float"
        },
        {
         "name": "merton_pd",
         "rawType": "float64",
         "type": "float"
        },
        {
         "name": "pd_valid",
         "rawType": "bool",
         "type": "boolean"
        }
       ],
       "conversionMethod": "pd.DataFrame",
       "ref": "6a115b0f-025d-4d6c-8314-bdc43f0d2103",
       "rows": [
        [
         "2121",
         "2014-06-09",
         "14593",
         "AAPL",
         "APPLE INC",
         "93.7",
         "205989000000.0",
         "0.0",
         "16962000000.0",
         "6029667.0",
         "564979797900.0",
         "8481000000.0",
         "0.082344202845783",
         "-1.9300354737203729",
         "1.9463000840748617",
         "2.62",
         null,
         "False"
        ],
        [
         "2123",
         "2014-06-11",
         "14593",
         "AAPL",
         "APPLE INC",
         "93.86",
         "205989000000.0",
         "0.0",
         "16962000000.0",
         "6029667.0",
         "565944544620.0",
         "8481000000.0",
         "0.082344202845783",
         "-0.0041465159618485",
         "1.94633545643032",
         "2.65",
         null,
         "False"
        ],
        [
         "2124",
         "2014-06-12",
         "14593",
         "AAPL",
         "APPLE INC",
         "92.29",
         "205989000000.0",
         "0.0",
         "16962000000.0",
         "6029667.0",
         "556477967430.0001",
         "8481000000.0",
         "0.082344202845783",
         "-0.0168685170887861",
         "1.9463549566444425",
         "2.58",
         null,
         "False"
        ],
        [
         "2125",
         "2014-06-13",
         "14593",
         "AAPL",
         "APPLE INC",
         "91.28",
         "205989000000.0",
         "0.0",
         "16962000000.0",
         "6029667.0",
         "550388003760.0",
         "8481000000.0",
         "0.082344202845783",
         "-0.0110040877236651",
         "1.9463040222664505",
         "2.6",
         null,
         "False"
        ],
        [
         "2126",
         "2014-06-16",
         "14593",
         "AAPL",
         "APPLE INC",
         "92.2",
         "205989000000.0",
         "0.0",
         "16962000000.0",
         "6029667.0",
         "555935297400.0",
         "8481000000.0",
         "0.082344202845783",
         "0.010028425008728",
         "1.946357077645955",
         "2.61",
         null,
         "False"
        ]
       ],
       "shape": {
        "columns": 17,
        "rows": 5
       }
      },
      "text/html": [
       "<div>\n",
       "<style scoped>\n",
       "    .dataframe tbody tr th:only-of-type {\n",
       "        vertical-align: middle;\n",
       "    }\n",
       "\n",
       "    .dataframe tbody tr th {\n",
       "        vertical-align: top;\n",
       "    }\n",
       "\n",
       "    .dataframe thead th {\n",
       "        text-align: right;\n",
       "    }\n",
       "</style>\n",
       "<table border=\"1\" class=\"dataframe\">\n",
       "  <thead>\n",
       "    <tr style=\"text-align: right;\">\n",
       "      <th></th>\n",
       "      <th>date</th>\n",
       "      <th>permno</th>\n",
       "      <th>tic</th>\n",
       "      <th>conm</th>\n",
       "      <th>PRC</th>\n",
       "      <th>atq</th>\n",
       "      <th>dlcq</th>\n",
       "      <th>dlttq</th>\n",
       "      <th>SHROUT</th>\n",
       "      <th>market_cap</th>\n",
       "      <th>total_debt</th>\n",
       "      <th>leverage</th>\n",
       "      <th>log_return</th>\n",
       "      <th>equity_volatility</th>\n",
       "      <th>rf</th>\n",
       "      <th>merton_pd</th>\n",
       "      <th>pd_valid</th>\n",
       "    </tr>\n",
       "  </thead>\n",
       "  <tbody>\n",
       "    <tr>\n",
       "      <th>2121</th>\n",
       "      <td>2014-06-09</td>\n",
       "      <td>14593</td>\n",
       "      <td>AAPL</td>\n",
       "      <td>APPLE INC</td>\n",
       "      <td>93.70</td>\n",
       "      <td>2.059890e+11</td>\n",
       "      <td>0.0</td>\n",
       "      <td>1.696200e+10</td>\n",
       "      <td>6029667.0</td>\n",
       "      <td>5.649798e+11</td>\n",
       "      <td>8.481000e+09</td>\n",
       "      <td>0.082344</td>\n",
       "      <td>-1.930035</td>\n",
       "      <td>1.946300</td>\n",
       "      <td>2.62</td>\n",
       "      <td>NaN</td>\n",
       "      <td>False</td>\n",
       "    </tr>\n",
       "    <tr>\n",
       "      <th>2123</th>\n",
       "      <td>2014-06-11</td>\n",
       "      <td>14593</td>\n",
       "      <td>AAPL</td>\n",
       "      <td>APPLE INC</td>\n",
       "      <td>93.86</td>\n",
       "      <td>2.059890e+11</td>\n",
       "      <td>0.0</td>\n",
       "      <td>1.696200e+10</td>\n",
       "      <td>6029667.0</td>\n",
       "      <td>5.659445e+11</td>\n",
       "      <td>8.481000e+09</td>\n",
       "      <td>0.082344</td>\n",
       "      <td>-0.004147</td>\n",
       "      <td>1.946335</td>\n",
       "      <td>2.65</td>\n",
       "      <td>NaN</td>\n",
       "      <td>False</td>\n",
       "    </tr>\n",
       "    <tr>\n",
       "      <th>2124</th>\n",
       "      <td>2014-06-12</td>\n",
       "      <td>14593</td>\n",
       "      <td>AAPL</td>\n",
       "      <td>APPLE INC</td>\n",
       "      <td>92.29</td>\n",
       "      <td>2.059890e+11</td>\n",
       "      <td>0.0</td>\n",
       "      <td>1.696200e+10</td>\n",
       "      <td>6029667.0</td>\n",
       "      <td>5.564780e+11</td>\n",
       "      <td>8.481000e+09</td>\n",
       "      <td>0.082344</td>\n",
       "      <td>-0.016869</td>\n",
       "      <td>1.946355</td>\n",
       "      <td>2.58</td>\n",
       "      <td>NaN</td>\n",
       "      <td>False</td>\n",
       "    </tr>\n",
       "    <tr>\n",
       "      <th>2125</th>\n",
       "      <td>2014-06-13</td>\n",
       "      <td>14593</td>\n",
       "      <td>AAPL</td>\n",
       "      <td>APPLE INC</td>\n",
       "      <td>91.28</td>\n",
       "      <td>2.059890e+11</td>\n",
       "      <td>0.0</td>\n",
       "      <td>1.696200e+10</td>\n",
       "      <td>6029667.0</td>\n",
       "      <td>5.503880e+11</td>\n",
       "      <td>8.481000e+09</td>\n",
       "      <td>0.082344</td>\n",
       "      <td>-0.011004</td>\n",
       "      <td>1.946304</td>\n",
       "      <td>2.60</td>\n",
       "      <td>NaN</td>\n",
       "      <td>False</td>\n",
       "    </tr>\n",
       "    <tr>\n",
       "      <th>2126</th>\n",
       "      <td>2014-06-16</td>\n",
       "      <td>14593</td>\n",
       "      <td>AAPL</td>\n",
       "      <td>APPLE INC</td>\n",
       "      <td>92.20</td>\n",
       "      <td>2.059890e+11</td>\n",
       "      <td>0.0</td>\n",
       "      <td>1.696200e+10</td>\n",
       "      <td>6029667.0</td>\n",
       "      <td>5.559353e+11</td>\n",
       "      <td>8.481000e+09</td>\n",
       "      <td>0.082344</td>\n",
       "      <td>0.010028</td>\n",
       "      <td>1.946357</td>\n",
       "      <td>2.61</td>\n",
       "      <td>NaN</td>\n",
       "      <td>False</td>\n",
       "    </tr>\n",
       "  </tbody>\n",
       "</table>\n",
       "</div>"
      ],
      "text/plain": [
       "            date  permno   tic       conm    PRC           atq  dlcq  \\\n",
       "2121  2014-06-09   14593  AAPL  APPLE INC  93.70  2.059890e+11   0.0   \n",
       "2123  2014-06-11   14593  AAPL  APPLE INC  93.86  2.059890e+11   0.0   \n",
       "2124  2014-06-12   14593  AAPL  APPLE INC  92.29  2.059890e+11   0.0   \n",
       "2125  2014-06-13   14593  AAPL  APPLE INC  91.28  2.059890e+11   0.0   \n",
       "2126  2014-06-16   14593  AAPL  APPLE INC  92.20  2.059890e+11   0.0   \n",
       "\n",
       "             dlttq     SHROUT    market_cap    total_debt  leverage  \\\n",
       "2121  1.696200e+10  6029667.0  5.649798e+11  8.481000e+09  0.082344   \n",
       "2123  1.696200e+10  6029667.0  5.659445e+11  8.481000e+09  0.082344   \n",
       "2124  1.696200e+10  6029667.0  5.564780e+11  8.481000e+09  0.082344   \n",
       "2125  1.696200e+10  6029667.0  5.503880e+11  8.481000e+09  0.082344   \n",
       "2126  1.696200e+10  6029667.0  5.559353e+11  8.481000e+09  0.082344   \n",
       "\n",
       "      log_return  equity_volatility    rf  merton_pd  pd_valid  \n",
       "2121   -1.930035           1.946300  2.62        NaN     False  \n",
       "2123   -0.004147           1.946335  2.65        NaN     False  \n",
       "2124   -0.016869           1.946355  2.58        NaN     False  \n",
       "2125   -0.011004           1.946304  2.60        NaN     False  \n",
       "2126    0.010028           1.946357  2.61        NaN     False  "
      ]
     },
     "execution_count": 5,
     "metadata": {},
     "output_type": "execute_result"
    }
   ],
   "source": [
    "merton_data_nonconverge = merton_data[merton_data[\"pd_valid\"] == False]\n",
    "len(merton_data_nonconverge)\n",
    "merton_data_nonconverge.head()"
   ]
  },
  {
   "cell_type": "code",
   "execution_count": 6,
   "id": "1408e189",
   "metadata": {},
   "outputs": [
    {
     "data": {
      "application/vnd.microsoft.datawrangler.viewer.v0+json": {
       "columns": [
        {
         "name": "index",
         "rawType": "object",
         "type": "string"
        },
        {
         "name": "permno",
         "rawType": "float64",
         "type": "float"
        },
        {
         "name": "PRC",
         "rawType": "float64",
         "type": "float"
        },
        {
         "name": "atq",
         "rawType": "float64",
         "type": "float"
        },
        {
         "name": "dlcq",
         "rawType": "float64",
         "type": "float"
        },
        {
         "name": "dlttq",
         "rawType": "float64",
         "type": "float"
        },
        {
         "name": "SHROUT",
         "rawType": "float64",
         "type": "float"
        },
        {
         "name": "market_cap",
         "rawType": "float64",
         "type": "float"
        },
        {
         "name": "total_debt",
         "rawType": "float64",
         "type": "float"
        },
        {
         "name": "leverage",
         "rawType": "float64",
         "type": "float"
        },
        {
         "name": "log_return",
         "rawType": "float64",
         "type": "float"
        },
        {
         "name": "equity_volatility",
         "rawType": "float64",
         "type": "float"
        },
        {
         "name": "rf",
         "rawType": "float64",
         "type": "float"
        },
        {
         "name": "merton_pd",
         "rawType": "float64",
         "type": "float"
        }
       ],
       "conversionMethod": "pd.DataFrame",
       "ref": "5ce3c7ef-2613-4165-adbc-035c8730e608",
       "rows": [
        [
         "count",
         "362879.0",
         "362879.0",
         "362879.0",
         "362879.0",
         "362879.0",
         "362879.0",
         "362879.0",
         "362879.0",
         "362879.0",
         "362879.0",
         "362879.0",
         "362879.0",
         "362879.0"
        ],
        [
         "mean",
         "48726.221577991564",
         "2455.4336666562413",
         "232594206896.22986",
         "25795627725.120495",
         "33205293876.570427",
         "1780044.5396151333",
         "139002500775.54883",
         "42398274663.40571",
         "0.2566813242406547",
         "-0.002920675378497725",
         "2.0136453594705848",
         "2.821378972054046",
         "0.0003436295836830912"
        ],
        [
         "std",
         "29164.94318659657",
         "28428.3562184555",
         "480144740448.27246",
         "78296841221.428",
         "60865847532.33696",
         "2221494.17756879",
         "240534242390.08853",
         "104181031264.82803",
         "0.16361293352020667",
         "0.8970997218152158",
         "13.98877557139069",
         "1.1066094999363296",
         "0.013205603558788966"
        ],
        [
         "min",
         "10104.0",
         "0.35",
         "364681000.0",
         "0.0",
         "0.0",
         "552.0",
         "836060940.0",
         "0.0",
         "0.0",
         "-7.346823071445731",
         "0.0904163341668219",
         "0.52",
         "0.0"
        ],
        [
         "25%",
         "18729.0",
         "44.16",
         "33408000000.0",
         "400000000.0",
         "5801000000.0",
         "599982.0",
         "49417750650.0",
         "3789000000.0",
         "0.1477457963959538",
         "-0.007973627575656849",
         "0.19368731414585966",
         "1.96",
         "0.0"
        ],
        [
         "50%",
         "49680.0",
         "71.0",
         "65121000000.0",
         "1800000000.0",
         "13105000000.0",
         "1100286.0",
         "86688840000.0",
         "9211500000.0",
         "0.2340050497832404",
         "0.0004999583450826",
         "0.2457294009042327",
         "2.68",
         "0.0"
        ],
        [
         "75%",
         "77702.0",
         "125.89",
         "165357000000.0",
         "5732000000.0",
         "29919000000.0",
         "1882048.0",
         "156118433530.0",
         "22754000000.0",
         "0.3407645298079321",
         "0.0089736100797749",
         "0.3289875293144099",
         "3.7",
         "0.0"
        ],
        [
         "max",
         "92655.0",
         "724040.0",
         "4210048000000.0",
         "562857000000.0",
         "511653000000.0",
         "29206400.0",
         "3915300322301.77",
         "726078500000.0",
         "1.039716533604064",
         "7.406942476673849",
         "116.57196394112113",
         "5.26",
         "1.0"
        ]
       ],
       "shape": {
        "columns": 13,
        "rows": 8
       }
      },
      "text/html": [
       "<div>\n",
       "<style scoped>\n",
       "    .dataframe tbody tr th:only-of-type {\n",
       "        vertical-align: middle;\n",
       "    }\n",
       "\n",
       "    .dataframe tbody tr th {\n",
       "        vertical-align: top;\n",
       "    }\n",
       "\n",
       "    .dataframe thead th {\n",
       "        text-align: right;\n",
       "    }\n",
       "</style>\n",
       "<table border=\"1\" class=\"dataframe\">\n",
       "  <thead>\n",
       "    <tr style=\"text-align: right;\">\n",
       "      <th></th>\n",
       "      <th>permno</th>\n",
       "      <th>PRC</th>\n",
       "      <th>atq</th>\n",
       "      <th>dlcq</th>\n",
       "      <th>dlttq</th>\n",
       "      <th>SHROUT</th>\n",
       "      <th>market_cap</th>\n",
       "      <th>total_debt</th>\n",
       "      <th>leverage</th>\n",
       "      <th>log_return</th>\n",
       "      <th>equity_volatility</th>\n",
       "      <th>rf</th>\n",
       "      <th>merton_pd</th>\n",
       "    </tr>\n",
       "  </thead>\n",
       "  <tbody>\n",
       "    <tr>\n",
       "      <th>count</th>\n",
       "      <td>362879.000000</td>\n",
       "      <td>362879.000000</td>\n",
       "      <td>3.628790e+05</td>\n",
       "      <td>3.628790e+05</td>\n",
       "      <td>3.628790e+05</td>\n",
       "      <td>3.628790e+05</td>\n",
       "      <td>3.628790e+05</td>\n",
       "      <td>3.628790e+05</td>\n",
       "      <td>362879.000000</td>\n",
       "      <td>362879.000000</td>\n",
       "      <td>362879.000000</td>\n",
       "      <td>362879.000000</td>\n",
       "      <td>362879.000000</td>\n",
       "    </tr>\n",
       "    <tr>\n",
       "      <th>mean</th>\n",
       "      <td>48726.221578</td>\n",
       "      <td>2455.433667</td>\n",
       "      <td>2.325942e+11</td>\n",
       "      <td>2.579563e+10</td>\n",
       "      <td>3.320529e+10</td>\n",
       "      <td>1.780045e+06</td>\n",
       "      <td>1.390025e+11</td>\n",
       "      <td>4.239827e+10</td>\n",
       "      <td>0.256681</td>\n",
       "      <td>-0.002921</td>\n",
       "      <td>2.013645</td>\n",
       "      <td>2.821379</td>\n",
       "      <td>0.000344</td>\n",
       "    </tr>\n",
       "    <tr>\n",
       "      <th>std</th>\n",
       "      <td>29164.943187</td>\n",
       "      <td>28428.356218</td>\n",
       "      <td>4.801447e+11</td>\n",
       "      <td>7.829684e+10</td>\n",
       "      <td>6.086585e+10</td>\n",
       "      <td>2.221494e+06</td>\n",
       "      <td>2.405342e+11</td>\n",
       "      <td>1.041810e+11</td>\n",
       "      <td>0.163613</td>\n",
       "      <td>0.897100</td>\n",
       "      <td>13.988776</td>\n",
       "      <td>1.106609</td>\n",
       "      <td>0.013206</td>\n",
       "    </tr>\n",
       "    <tr>\n",
       "      <th>min</th>\n",
       "      <td>10104.000000</td>\n",
       "      <td>0.350000</td>\n",
       "      <td>3.646810e+08</td>\n",
       "      <td>0.000000e+00</td>\n",
       "      <td>0.000000e+00</td>\n",
       "      <td>5.520000e+02</td>\n",
       "      <td>8.360609e+08</td>\n",
       "      <td>0.000000e+00</td>\n",
       "      <td>0.000000</td>\n",
       "      <td>-7.346823</td>\n",
       "      <td>0.090416</td>\n",
       "      <td>0.520000</td>\n",
       "      <td>0.000000</td>\n",
       "    </tr>\n",
       "    <tr>\n",
       "      <th>25%</th>\n",
       "      <td>18729.000000</td>\n",
       "      <td>44.160000</td>\n",
       "      <td>3.340800e+10</td>\n",
       "      <td>4.000000e+08</td>\n",
       "      <td>5.801000e+09</td>\n",
       "      <td>5.999820e+05</td>\n",
       "      <td>4.941775e+10</td>\n",
       "      <td>3.789000e+09</td>\n",
       "      <td>0.147746</td>\n",
       "      <td>-0.007974</td>\n",
       "      <td>0.193687</td>\n",
       "      <td>1.960000</td>\n",
       "      <td>0.000000</td>\n",
       "    </tr>\n",
       "    <tr>\n",
       "      <th>50%</th>\n",
       "      <td>49680.000000</td>\n",
       "      <td>71.000000</td>\n",
       "      <td>6.512100e+10</td>\n",
       "      <td>1.800000e+09</td>\n",
       "      <td>1.310500e+10</td>\n",
       "      <td>1.100286e+06</td>\n",
       "      <td>8.668884e+10</td>\n",
       "      <td>9.211500e+09</td>\n",
       "      <td>0.234005</td>\n",
       "      <td>0.000500</td>\n",
       "      <td>0.245729</td>\n",
       "      <td>2.680000</td>\n",
       "      <td>0.000000</td>\n",
       "    </tr>\n",
       "    <tr>\n",
       "      <th>75%</th>\n",
       "      <td>77702.000000</td>\n",
       "      <td>125.890000</td>\n",
       "      <td>1.653570e+11</td>\n",
       "      <td>5.732000e+09</td>\n",
       "      <td>2.991900e+10</td>\n",
       "      <td>1.882048e+06</td>\n",
       "      <td>1.561184e+11</td>\n",
       "      <td>2.275400e+10</td>\n",
       "      <td>0.340765</td>\n",
       "      <td>0.008974</td>\n",
       "      <td>0.328988</td>\n",
       "      <td>3.700000</td>\n",
       "      <td>0.000000</td>\n",
       "    </tr>\n",
       "    <tr>\n",
       "      <th>max</th>\n",
       "      <td>92655.000000</td>\n",
       "      <td>724040.000000</td>\n",
       "      <td>4.210048e+12</td>\n",
       "      <td>5.628570e+11</td>\n",
       "      <td>5.116530e+11</td>\n",
       "      <td>2.920640e+07</td>\n",
       "      <td>3.915300e+12</td>\n",
       "      <td>7.260785e+11</td>\n",
       "      <td>1.039717</td>\n",
       "      <td>7.406942</td>\n",
       "      <td>116.571964</td>\n",
       "      <td>5.260000</td>\n",
       "      <td>1.000000</td>\n",
       "    </tr>\n",
       "  </tbody>\n",
       "</table>\n",
       "</div>"
      ],
      "text/plain": [
       "              permno            PRC           atq          dlcq         dlttq  \\\n",
       "count  362879.000000  362879.000000  3.628790e+05  3.628790e+05  3.628790e+05   \n",
       "mean    48726.221578    2455.433667  2.325942e+11  2.579563e+10  3.320529e+10   \n",
       "std     29164.943187   28428.356218  4.801447e+11  7.829684e+10  6.086585e+10   \n",
       "min     10104.000000       0.350000  3.646810e+08  0.000000e+00  0.000000e+00   \n",
       "25%     18729.000000      44.160000  3.340800e+10  4.000000e+08  5.801000e+09   \n",
       "50%     49680.000000      71.000000  6.512100e+10  1.800000e+09  1.310500e+10   \n",
       "75%     77702.000000     125.890000  1.653570e+11  5.732000e+09  2.991900e+10   \n",
       "max     92655.000000  724040.000000  4.210048e+12  5.628570e+11  5.116530e+11   \n",
       "\n",
       "             SHROUT    market_cap    total_debt       leverage     log_return  \\\n",
       "count  3.628790e+05  3.628790e+05  3.628790e+05  362879.000000  362879.000000   \n",
       "mean   1.780045e+06  1.390025e+11  4.239827e+10       0.256681      -0.002921   \n",
       "std    2.221494e+06  2.405342e+11  1.041810e+11       0.163613       0.897100   \n",
       "min    5.520000e+02  8.360609e+08  0.000000e+00       0.000000      -7.346823   \n",
       "25%    5.999820e+05  4.941775e+10  3.789000e+09       0.147746      -0.007974   \n",
       "50%    1.100286e+06  8.668884e+10  9.211500e+09       0.234005       0.000500   \n",
       "75%    1.882048e+06  1.561184e+11  2.275400e+10       0.340765       0.008974   \n",
       "max    2.920640e+07  3.915300e+12  7.260785e+11       1.039717       7.406942   \n",
       "\n",
       "       equity_volatility             rf      merton_pd  \n",
       "count      362879.000000  362879.000000  362879.000000  \n",
       "mean            2.013645       2.821379       0.000344  \n",
       "std            13.988776       1.106609       0.013206  \n",
       "min             0.090416       0.520000       0.000000  \n",
       "25%             0.193687       1.960000       0.000000  \n",
       "50%             0.245729       2.680000       0.000000  \n",
       "75%             0.328988       3.700000       0.000000  \n",
       "max           116.571964       5.260000       1.000000  "
      ]
     },
     "execution_count": 6,
     "metadata": {},
     "output_type": "execute_result"
    }
   ],
   "source": [
    "merton_data_converged.describe()"
   ]
  },
  {
   "cell_type": "code",
   "execution_count": 7,
   "id": "32a3ea62",
   "metadata": {},
   "outputs": [],
   "source": [
    "auto_drop_merton = merton_data[\n",
    "    (merton_data['total_debt'] == 0) | \n",
    "    (merton_data['equity_volatility'] == 0) | \n",
    "    (((merton_data['total_debt'] / merton_data['market_cap']) < .2) & (merton_data['equity_volatility'] < .6))\n",
    "]"
   ]
  },
  {
   "cell_type": "code",
   "execution_count": 8,
   "id": "a9f2c092",
   "metadata": {},
   "outputs": [
    {
     "data": {
      "text/plain": [
       "288585"
      ]
     },
     "execution_count": 8,
     "metadata": {},
     "output_type": "execute_result"
    }
   ],
   "source": [
    "len(auto_drop_merton)"
   ]
  },
  {
   "cell_type": "code",
   "execution_count": 9,
   "id": "a55f1a71",
   "metadata": {},
   "outputs": [],
   "source": [
    "merton_converge_not_auto = merton_data_converged.drop(auto_drop_merton.index)"
   ]
  },
  {
   "cell_type": "code",
   "execution_count": 10,
   "id": "6865ce67",
   "metadata": {},
   "outputs": [
    {
     "data": {
      "text/plain": [
       "permno               5.688536e+04\n",
       "PRC                  1.063252e+04\n",
       "atq                  8.248819e+11\n",
       "dlcq                 1.159169e+11\n",
       "dlttq                1.025688e+11\n",
       "SHROUT               2.379644e+06\n",
       "market_cap           1.177250e+11\n",
       "total_debt           1.672012e+11\n",
       "leverage             2.921293e-01\n",
       "log_return          -1.588132e-02\n",
       "equity_volatility    8.839949e+00\n",
       "rf                   2.731226e+00\n",
       "merton_pd            1.678412e-03\n",
       "Name: mean, dtype: float64"
      ]
     },
     "execution_count": 10,
     "metadata": {},
     "output_type": "execute_result"
    }
   ],
   "source": [
    "merton_converge_not_auto.describe().loc['mean']"
   ]
  },
  {
   "cell_type": "code",
   "execution_count": 11,
   "id": "907edf63",
   "metadata": {},
   "outputs": [
    {
     "data": {
      "text/plain": [
       "permno               5.093782e+04\n",
       "PRC                  4.127842e+03\n",
       "atq                  3.602884e+11\n",
       "dlcq                 2.731390e+10\n",
       "dlttq                5.264697e+10\n",
       "SHROUT               1.904643e+06\n",
       "market_cap           1.028473e+11\n",
       "total_debt           5.363739e+10\n",
       "leverage             2.933262e-01\n",
       "log_return           1.476883e-02\n",
       "equity_volatility    3.216877e+00\n",
       "rf                   2.847869e+00\n",
       "merton_pd                     NaN\n",
       "Name: mean, dtype: float64"
      ]
     },
     "execution_count": 11,
     "metadata": {},
     "output_type": "execute_result"
    }
   ],
   "source": [
    "merton_data_nonconverge.describe().loc['mean']"
   ]
  },
  {
   "cell_type": "code",
   "execution_count": 12,
   "id": "247f1b58",
   "metadata": {},
   "outputs": [
    {
     "data": {
      "text/plain": [
       "0.48728560653264685"
      ]
     },
     "execution_count": 12,
     "metadata": {},
     "output_type": "execute_result"
    }
   ],
   "source": [
    "len(merton_converge_not_auto) / (len(merton_data_nonconverge) + len(merton_converge_not_auto))"
   ]
  },
  {
   "cell_type": "code",
   "execution_count": 13,
   "id": "780d29fb",
   "metadata": {},
   "outputs": [],
   "source": [
    "comparison = (pd.DataFrame([merton_converge_not_auto.describe().loc['mean'], merton_data_nonconverge.describe().loc['mean']], index=['Converge', 'Non-Converge'])).transpose()"
   ]
  },
  {
   "cell_type": "code",
   "execution_count": 14,
   "id": "1c03ea33",
   "metadata": {},
   "outputs": [
    {
     "name": "stdout",
     "output_type": "stream",
     "text": [
      "                       Converge  Non-Converge\n",
      "permno             5.688536e+04  5.093782e+04\n",
      "PRC                1.063252e+04  4.127842e+03\n",
      "atq                8.248819e+11  3.602884e+11\n",
      "dlcq               1.159169e+11  2.731390e+10\n",
      "dlttq              1.025688e+11  5.264697e+10\n",
      "SHROUT             2.379644e+06  1.904643e+06\n",
      "market_cap         1.177250e+11  1.028473e+11\n",
      "total_debt         1.672012e+11  5.363739e+10\n",
      "leverage           2.921293e-01  2.933262e-01\n",
      "log_return        -1.588132e-02  1.476883e-02\n",
      "equity_volatility  8.839949e+00  3.216877e+00\n",
      "rf                 2.731226e+00  2.847869e+00\n",
      "merton_pd          1.678412e-03           NaN\n"
     ]
    }
   ],
   "source": [
    "print(comparison)"
   ]
  },
  {
   "cell_type": "code",
   "execution_count": 32,
   "id": "a1bd2a2a",
   "metadata": {},
   "outputs": [
    {
     "data": {
      "text/plain": [
       "date                     2014-06-11\n",
       "permno                        14593\n",
       "tic                            AAPL\n",
       "conm                      APPLE INC\n",
       "PRC                           93.86\n",
       "atq                  205989000000.0\n",
       "dlcq                            0.0\n",
       "dlttq                 16962000000.0\n",
       "SHROUT                    6029667.0\n",
       "market_cap           565944544620.0\n",
       "total_debt             8481000000.0\n",
       "leverage                   0.082344\n",
       "log_return                -0.004147\n",
       "equity_volatility          1.946335\n",
       "rf                             2.65\n",
       "merton_pd                       NaN\n",
       "pd_valid                      False\n",
       "Name: 2123, dtype: object"
      ]
     },
     "execution_count": 32,
     "metadata": {},
     "output_type": "execute_result"
    }
   ],
   "source": [
    "merton_data.iloc[2123]"
   ]
  },
  {
   "cell_type": "code",
   "execution_count": 136,
   "id": "bf563c82",
   "metadata": {},
   "outputs": [
    {
     "name": "stdout",
     "output_type": "stream",
     "text": [
      "New best: residual=1.2207e-04, V0=5.67e+11, sigma_V0=0.05\n",
      "New best: residual=2.2204e-16, V0=5.68e+11, sigma_V0=0.05\n",
      "New best: residual=0.0000e+00, V0=5.68e+11, sigma_V0=0.05\n",
      "[5.73766556e+11 1.92127576e+00]\n"
     ]
    },
    {
     "data": {
      "text/plain": [
       "0.10625476417896262"
      ]
     },
     "execution_count": 136,
     "metadata": {},
     "output_type": "execute_result"
    }
   ],
   "source": [
    "compute_merton_pd_new(565944544620.0,1.946335,8481000000.0,2.65 / 100, debug = True)"
   ]
  },
  {
   "cell_type": "code",
   "execution_count": 135,
   "id": "1b47d855",
   "metadata": {},
   "outputs": [
    {
     "name": "stdout",
     "output_type": "stream",
     "text": [
      "574425544620.0 1.7517015\n",
      "574425553179.6077 1.7517015\n",
      "574425544620.0 1.75170151\n",
      "574417685641.0248 0.01\n",
      "574417694200.5153 0.01\n",
      "574417685641.0248 0.01000001\n",
      "573989805559.0231 0.01\n",
      "573989814112.1377 0.01\n",
      "573989805559.0231 0.01000001\n",
      "574203752018.8447 0.01\n",
      "574203760575.1473 0.01\n",
      "574203752018.8447 0.01000001\n",
      "574203745601.6179 1.9658360583067365\n",
      "574203754157.9205 1.9658360583067365\n",
      "574203745601.6179 1.9658360683067364\n",
      "574203750078.9388 0.6012426108863259\n",
      "574203758635.2415 0.6012426108863259\n",
      "574203750078.9388 0.601242620886326\n",
      "574203745601.6024 1.9371295732984761\n",
      "574203754157.905 1.9371295732984761\n",
      "574203745601.6024 1.937129583298476\n",
      "574203748798.0127 0.9834279770698583\n",
      "574203757354.3153 0.9834279770698583\n",
      "574203748798.0127 0.9834279870698583\n",
      "574203749680.8932 0.7200060928798857\n",
      "574203758237.1958 0.7200060928798857\n",
      "574203749680.8932 0.7200061028798858\n",
      "574203749098.1921 0.8938645364452676\n",
      "574203757654.4948 0.8938645364452676\n",
      "574203749098.1921 0.8938645464452677\n",
      "574203749503.4663 0.7729443045917362\n",
      "574203758059.7689 0.7729443045917362\n",
      "574203749503.4663 0.7729443145917363\n",
      "574203749648.2563 0.7297438147123219\n",
      "574203758204.559 0.7297438147123219\n",
      "574203749648.2563 0.7297438247123219\n",
      "574203749680.8932 0.7200060928798857\n",
      "574203758237.1958 0.7200060928798857\n",
      "574203749680.8932 0.7200061028798858\n",
      "574203745433.5443 1.9139369928099679\n",
      "574203753989.8469 1.9139369928099679\n",
      "574203745433.5443 1.9139370028099678\n",
      "574203748487.6494 1.055427246191192\n",
      "574203757043.952 1.055427246191192\n",
      "574203748487.6494 1.055427256191192\n",
      "574203749323.4326 0.8204883380343404\n",
      "574203757879.7352 0.8204883380343404\n",
      "574203749323.4326 0.8204883480343405\n",
      "574203749519.717 0.7653127660834798\n",
      "574203758076.0197 0.7653127660834798\n",
      "574203749519.717 0.7653127760834798\n",
      "574203749649.7957 0.7287476085020496\n",
      "574203758206.0983 0.7287476085020496\n",
      "574203749649.7957 0.7287476185020496\n",
      "574203749674.6099 0.7217723238261127\n",
      "574203758230.9125 0.7217723238261127\n",
      "574203749674.6099 0.7217723338261127\n",
      "574203749679.6262 0.720362253320622\n",
      "574203758235.9288 0.720362253320622\n",
      "574203749679.6262 0.720362263320622\n",
      "574203749680.6378 0.7200778909520232\n",
      "574203758236.9404 0.7200778909520232\n",
      "574203749680.6378 0.7200779009520233\n",
      "574203749680.8446 0.7200197652491759\n",
      "574203758237.1472 0.7200197652491759\n",
      "574203749680.8446 0.7200197752491759\n",
      "574203749680.8839 0.7200086967662005\n",
      "574203758237.1865 0.7200086967662005\n",
      "574203749680.8839 0.7200087067662005\n",
      "574203749680.8914 0.7200066177152579\n",
      "574203758237.194 0.7200066177152579\n",
      "574203749680.8914 0.7200066277152579\n",
      "574203749680.8928 0.7200061928545655\n",
      "574203758237.1954 0.7200061928545655\n",
      "574203749680.8928 0.7200062028545655\n",
      "574203749680.8931 0.72000611315369\n",
      "574203758237.1957 0.72000611315369\n",
      "574203749680.8931 0.7200061231536901\n",
      "574203749680.8932 0.720006096558739\n",
      "574203758237.1958 0.720006096558739\n",
      "574203749680.8932 0.7200061065587391\n",
      "V, sigma_V: [5.74203750e+11 7.20006097e-01]\n",
      "Residuals: 34030.693349458634\n"
     ]
    },
    {
     "data": {
      "text/plain": [
       "1.5908188562424526e-08"
      ]
     },
     "execution_count": 135,
     "metadata": {},
     "output_type": "execute_result"
    }
   ],
   "source": [
    "compute_merton_pd_old(565944544620.0,1.946335,8481000000.0,2.65 / 100)"
   ]
  },
  {
   "cell_type": "code",
   "execution_count": 80,
   "id": "520e916a",
   "metadata": {},
   "outputs": [
    {
     "name": "stdout",
     "output_type": "stream",
     "text": [
      "574425544620.0 1.7517015\n",
      "574425553179.6077 1.7517015\n",
      "574425544620.0 1.75170151\n",
      "558657405434.3732 0.01\n",
      "558657413759.0172 0.01\n",
      "558657405434.3732 0.01000001\n",
      "566544128288.0082 0.8811438212558068\n",
      "566544136730.1736 0.8811438212558068\n",
      "566544128288.0082 0.8811438312558069\n",
      "566543338385.7576 0.8811438212558068\n",
      "566543346827.9111 0.8811438212558068\n",
      "566543338385.7576 0.8811438312558069\n",
      "566543739666.879 0.8811438212558068\n",
      "566543748109.0386 0.8811438212558068\n",
      "566543739666.879 0.8811438312558069\n",
      "566543733336.8859 1.9696099224128858\n",
      "566543741779.0454 1.9696099224128858\n",
      "566543733336.8859 1.9696099324128857\n",
      "566543737713.0691 1.2171087707253878\n",
      "566543746155.2286 1.2171087707253878\n",
      "566543737713.0691 1.2171087807253878\n",
      "566543733243.0404 1.9304166334904886\n",
      "566543741685.2 1.9304166334904886\n",
      "566543733243.0404 1.9304166434904886\n",
      "566543736392.9448 1.4277685041521493\n",
      "566543744835.1044 1.4277685041521493\n",
      "566543736392.9448 1.4277685141521492\n",
      "566543737140.6998 1.308444976812733\n",
      "566543745582.8594 1.308444976812733\n",
      "566543737140.6998 1.308444986812733\n",
      "566543736647.1815 1.3871985048567477\n",
      "566543745089.3411 1.3871985048567477\n",
      "566543736647.1815 1.3871985148567476\n",
      "566543737029.9979 1.3261103115526158\n",
      "566543745472.1575 1.3261103115526158\n",
      "566543737029.9979 1.3261103215526158\n",
      "566543736945.9283 1.3395257669383627\n",
      "566543745388.0879 1.3395257669383627\n",
      "566543736945.9283 1.3395257769383626\n",
      "566543736748.7555 1.370989773964497\n",
      "566543745190.915 1.370989773964497\n",
      "566543736748.7555 1.3709897839644969\n",
      "566543736901.3672 1.3466366460869221\n",
      "566543745343.5267 1.3466366460869221\n",
      "566543736901.3672 1.346636656086922\n",
      "566543736800.6434 1.3627097104861214\n",
      "566543745242.803 1.3627097104861214\n",
      "566543736800.6434 1.3627097204861214\n",
      "566543736880.0782 1.3500338550368745\n",
      "566543745322.2378 1.3500338550368745\n",
      "566543736880.0782 1.3500338650368744\n",
      "566543736901.3672 1.3466366460869221\n",
      "566543745343.5267 1.3466366460869221\n",
      "566543736901.3672 1.346636656086922\n",
      "566543717134.1273 2.0\n",
      "566543725576.2866 2.0\n",
      "566543717134.1273 1.99999999\n",
      "566543731259.5363 1.5331151647951478\n",
      "566543739701.6957 1.5331151647951478\n",
      "566543731259.5363 1.5331151747951477\n",
      "566543734993.9213 1.409683144872578\n",
      "566543743436.0808 1.409683144872578\n",
      "566543734993.9213 1.409683154872578\n",
      "566543736509.7227 1.3595816105072398\n",
      "566543744951.8822 1.3595816105072398\n",
      "566543736509.7227 1.3595816205072397\n",
      "566543736818.7736 1.3493665980274359\n",
      "566543745260.9331 1.3493665980274359\n",
      "566543736818.7736 1.3493666080274358\n",
      "566543736883.9213 1.3472132825278995\n",
      "566543745326.0808 1.3472132825278995\n",
      "566543736883.9213 1.3472132925278995\n",
      "566543736897.6787 1.3467585589291173\n",
      "566543745339.8383 1.3467585589291173\n",
      "566543736897.6787 1.3467585689291173\n",
      "566543736888.5989 1.3470586765043135\n",
      "566543745330.7584 1.3470586765043135\n",
      "566543736888.5989 1.3470586865043135\n",
      "566543736895.7596 1.346821990897299\n",
      "566543745337.9192 1.346821990897299\n",
      "566543736895.7596 1.3468220008972989\n",
      "566543736891.0336 1.3469782033979285\n",
      "566543745333.1931 1.3469782033979285\n",
      "566543736891.0336 1.3469782133979284\n",
      "566543736894.7611 1.3468549941476886\n",
      "566543745336.9207 1.3468549941476886\n",
      "566543736894.7611 1.3468550041476886\n",
      "566543736892.3009 1.346936312252847\n",
      "566543745334.4604 1.346936312252847\n",
      "566543736892.3009 1.346936322252847\n",
      "566543736894.2415 1.3468721733985223\n",
      "566543745336.401 1.3468721733985223\n",
      "566543736894.2415 1.3468721833985222\n",
      "566543736892.9607 1.3469145050423768\n",
      "566543745335.1202 1.3469145050423768\n",
      "566543736892.9607 1.3469145150423767\n",
      "566543736893.971 1.3468811140650137\n",
      "566543745336.1305 1.3468811140650137\n",
      "566543736893.971 1.3468811240650136\n",
      "566543736893.7572 1.3468881791332152\n",
      "566543745335.9167 1.3468881791332152\n",
      "566543736893.7572 1.3468881891332152\n",
      "566543736893.971 1.3468811140650137\n",
      "566543745336.1305 1.3468811140650137\n",
      "566543736893.971 1.3468811240650136\n",
      "566543729006.9019 2.0\n",
      "566543737449.0613 2.0\n",
      "566543729006.9019 1.99999999\n",
      "566543734645.1074 1.5331068528615455\n",
      "566543743087.267 1.5331068528615455\n",
      "566543734645.1074 1.5331068628615454\n",
      "566543736280.1218 1.3977132392978544\n",
      "566543744722.2814 1.3977132392978544\n",
      "566543736280.1218 1.3977132492978543\n",
      "566543736767.97 1.3573151057168074\n",
      "566543745210.1295 1.3573151057168074\n",
      "566543736767.97 1.3573151157168073\n",
      "566543736867.3871 1.34908248877567\n",
      "566543745309.5466 1.34908248877567\n",
      "566543736867.3871 1.34908249877567\n",
      "566543736888.3529 1.3473463408781252\n",
      "566543745330.5125 1.3473463408781252\n",
      "566543736888.3529 1.3473463508781252\n",
      "566543736892.7834 1.3469794484984035\n",
      "566543745334.943 1.3469794484984035\n",
      "566543736892.7834 1.3469794584984034\n",
      "566543736893.72 1.3469018994809796\n",
      "566543745335.8795 1.3469018994809796\n",
      "566543736893.72 1.3469019094809795\n",
      "566543736893.9178 1.346885507603041\n",
      "566543745336.0774 1.346885507603041\n",
      "566543736893.9178 1.346885517603041\n",
      "566543736893.9597 1.3468820422324594\n",
      "566543745336.1193 1.3468820422324594\n",
      "566543736893.9597 1.3468820522324594\n",
      "566543736893.9686 1.3468813103725021\n",
      "566543745336.1282 1.3468813103725021\n",
      "566543736893.9686 1.346881320372502\n",
      "566543736893.9705 1.3468811555606157\n",
      "566543745336.13 1.3468811555606157\n",
      "566543736893.9705 1.3468811655606157\n",
      "566543736893.9708 1.34688112283192\n",
      "566543745336.1304 1.34688112283192\n",
      "566543736893.9708 1.34688113283192\n",
      "566543736893.971 1.3468811159161869\n",
      "566543745336.1305 1.3468811159161869\n",
      "566543736893.971 1.3468811259161868\n",
      "566543736893.9708 1.3468811204805706\n",
      "566543745336.1304 1.3468811204805706\n",
      "566543736893.9708 1.3468811304805706\n",
      "566543736893.971 1.3468811168761203\n",
      "566543745336.1305 1.3468811168761203\n",
      "566543736893.971 1.3468811268761203\n",
      "566543736893.971 1.3468811161149086\n",
      "566543745336.1305 1.3468811161149086\n",
      "566543736893.971 1.3468811261149085\n",
      "566543736893.971 1.3468811159161869\n",
      "566543745336.1305 1.3468811159161869\n",
      "566543736893.971 1.3468811259161868\n",
      "V, sigma_V: [5.66543737e+11 1.34688112e+00]\n",
      "Residuals: 35.7072811156711\n"
     ]
    },
    {
     "data": {
      "text/plain": [
       "5.081768136852948e-06"
      ]
     },
     "execution_count": 80,
     "metadata": {},
     "output_type": "execute_result"
    }
   ],
   "source": [
    "compute_merton_pd_old(565944544620.0,1.946335,8481000000.0,2.65)"
   ]
  },
  {
   "cell_type": "code",
   "execution_count": 89,
   "id": "6ac90580",
   "metadata": {},
   "outputs": [
    {
     "name": "stderr",
     "output_type": "stream",
     "text": [
      "C:\\Users\\rycba\\AppData\\Local\\Temp\\ipykernel_33104\\154802804.py:1: SettingWithCopyWarning: \n",
      "A value is trying to be set on a copy of a slice from a DataFrame.\n",
      "Try using .loc[row_indexer,col_indexer] = value instead\n",
      "\n",
      "See the caveats in the documentation: https://pandas.pydata.org/pandas-docs/stable/user_guide/indexing.html#returning-a-view-versus-a-copy\n",
      "  merton_data_nonconverge['merton_pd'] = merton_data_nonconverge.apply(\n",
      "C:\\Users\\rycba\\AppData\\Local\\Temp\\ipykernel_33104\\154802804.py:11: SettingWithCopyWarning: \n",
      "A value is trying to be set on a copy of a slice from a DataFrame.\n",
      "Try using .loc[row_indexer,col_indexer] = value instead\n",
      "\n",
      "See the caveats in the documentation: https://pandas.pydata.org/pandas-docs/stable/user_guide/indexing.html#returning-a-view-versus-a-copy\n",
      "  merton_data_nonconverge['pd_valid'] = merton_data_nonconverge['merton_pd'].notna()\n"
     ]
    },
    {
     "data": {
      "text/plain": [
       "76"
      ]
     },
     "execution_count": 89,
     "metadata": {},
     "output_type": "execute_result"
    }
   ],
   "source": [
    "merton_data_nonconverge['merton_pd'] = merton_data_nonconverge.apply(\n",
    "    lambda row: compute_merton_pd_new(\n",
    "        E=row['market_cap'],\n",
    "        sigma_E=row['equity_volatility'],\n",
    "        D=row['total_debt'],\n",
    "        r=row['rf'] / 100  # Convert percentage to decimal\n",
    "    ),\n",
    "    axis=1\n",
    ")\n",
    "\n",
    "merton_data_nonconverge['pd_valid'] = merton_data_nonconverge['merton_pd'].notna()\n",
    "len(merton_data_nonconverge[merton_data_nonconverge['pd_valid'] == False])"
   ]
  },
  {
   "cell_type": "code",
   "execution_count": 92,
   "id": "8a0be0d1",
   "metadata": {},
   "outputs": [
    {
     "data": {
      "text/plain": [
       "2121      0.106420\n",
       "2123      0.106255\n",
       "2124      0.107805\n",
       "2125      0.108746\n",
       "2126      0.107865\n",
       "            ...   \n",
       "440062    0.000189\n",
       "440063    0.000214\n",
       "440065    0.000190\n",
       "440077    0.000118\n",
       "440078    0.000104\n",
       "Name: merton_pd, Length: 78171, dtype: float64"
      ]
     },
     "execution_count": 92,
     "metadata": {},
     "output_type": "execute_result"
    }
   ],
   "source": [
    "merton_data_nonconverge['merton_pd']"
   ]
  },
  {
   "cell_type": "code",
   "execution_count": 94,
   "id": "28830171",
   "metadata": {},
   "outputs": [],
   "source": [
    "gs = merton_data[merton_data['tic'] == 'GS']"
   ]
  },
  {
   "cell_type": "code",
   "execution_count": 100,
   "id": "a070ba62",
   "metadata": {},
   "outputs": [
    {
     "data": {
      "text/plain": [
       "date                              2007-09-24\n",
       "permno                                 86868\n",
       "tic                                       GS\n",
       "conm                 GOLDMAN SACHS GROUP INC\n",
       "PRC                                210.42999\n",
       "atq                          1045778000000.0\n",
       "dlcq                          459520000000.0\n",
       "dlttq                         188980000000.0\n",
       "SHROUT                              405655.0\n",
       "market_cap                85361977593.449997\n",
       "total_debt                    554010000000.0\n",
       "leverage                            0.620112\n",
       "log_return                          0.002141\n",
       "equity_volatility                   0.276808\n",
       "rf                                      4.63\n",
       "merton_pd                                1.0\n",
       "pd_valid                                True\n",
       "Name: 180373, dtype: object"
      ]
     },
     "execution_count": 100,
     "metadata": {},
     "output_type": "execute_result"
    }
   ],
   "source": [
    "merton_data_nonconverge.loc[180373]"
   ]
  },
  {
   "cell_type": "code",
   "execution_count": 128,
   "id": "80fbe569",
   "metadata": {},
   "outputs": [
    {
     "name": "stdout",
     "output_type": "stream",
     "text": [
      "New best: residual=8.5362e+10, V0=1.41e+11, sigma_V0=0.05\n",
      "New best: residual=8.5362e+10, V0=3.60e+11, sigma_V0=0.05\n",
      "New best: residual=8.0129e+10, V0=3.88e+11, sigma_V0=0.05\n",
      "New best: residual=9.4544e-01, V0=4.15e+11, sigma_V0=0.05\n",
      "New best: residual=5.8984e-01, V0=4.42e+11, sigma_V0=0.05\n",
      "New best: residual=1.0681e-04, V0=5.79e+11, sigma_V0=0.05\n",
      "New best: residual=1.5259e-05, V0=6.62e+11, sigma_V0=0.05\n",
      "[6.14305814e+11 3.84661844e-02]\n"
     ]
    },
    {
     "data": {
      "text/plain": [
       "5.4381840411249855e-05"
      ]
     },
     "execution_count": 128,
     "metadata": {},
     "output_type": "execute_result"
    }
   ],
   "source": [
    "compute_merton_pd_new(merton_data_nonconverge.loc[180373]['market_cap'], \n",
    "                      merton_data_nonconverge.loc[180373]['equity_volatility'], \n",
    "                      merton_data_nonconverge.loc[180373]['total_debt'], \n",
    "                      merton_data_nonconverge.loc[180373]['rf'] / 100, debug = True\n",
    ")"
   ]
  },
  {
   "cell_type": "code",
   "execution_count": null,
   "id": "a1dff242",
   "metadata": {},
   "outputs": [],
   "source": []
  }
 ],
 "metadata": {
  "kernelspec": {
   "display_name": "base",
   "language": "python",
   "name": "python3"
  },
  "language_info": {
   "codemirror_mode": {
    "name": "ipython",
    "version": 3
   },
   "file_extension": ".py",
   "mimetype": "text/x-python",
   "name": "python",
   "nbconvert_exporter": "python",
   "pygments_lexer": "ipython3",
   "version": "3.12.4"
  }
 },
 "nbformat": 4,
 "nbformat_minor": 5
}
