{
 "cells": [
  {
   "cell_type": "code",
   "execution_count": 23,
   "id": "5fb5d53c",
   "metadata": {},
   "outputs": [],
   "source": [
    "import wrds\n",
    "import pandas as pd"
   ]
  },
  {
   "cell_type": "code",
   "execution_count": 24,
   "id": "41c3b9ea",
   "metadata": {},
   "outputs": [
    {
     "name": "stdout",
     "output_type": "stream",
     "text": [
      "WRDS recommends setting up a .pgpass file.\n",
      "Created .pgpass file successfully.\n",
      "You can create this file yourself at any time with the create_pgpass_file() function.\n",
      "Loading library list...\n",
      "Done\n"
     ]
    }
   ],
   "source": [
    "db = wrds.Connection()"
   ]
  },
  {
   "cell_type": "code",
   "execution_count": 25,
   "id": "503038c9",
   "metadata": {},
   "outputs": [],
   "source": [
    "# Pull monthly market cap to identify top 100 PERMNOs with data over the period\n",
    "monthly = db.raw_sql(\"\"\"\n",
    "    SELECT permno, date, abs(prc)*shrout/1000 as mktcap\n",
    "    FROM crsp.msf\n",
    "    WHERE date BETWEEN '2004-01-01' AND '2024-01-01'\n",
    "\"\"\")\n"
   ]
  },
  {
   "cell_type": "code",
   "execution_count": 26,
   "id": "ed21c79b",
   "metadata": {},
   "outputs": [],
   "source": [
    "# Count months of data per PERMNO\n",
    "coverage = (\n",
    "    monthly.groupby('permno')['date']\n",
    "    .count()\n",
    "    .reset_index(name='n_months')\n",
    ")\n",
    "\n",
    "# Full coverage = 12 months × 20 years = 240 months\n",
    "full_data = coverage[coverage['n_months'] >= 240]\n",
    "\n",
    "# Join back to get avg market cap and pick top 100\n",
    "avg_mktcap = (\n",
    "    monthly[monthly['permno'].isin(full_data['permno'])]\n",
    "    .groupby('permno')['mktcap']\n",
    "    .mean()\n",
    "    .reset_index(name='avg_mktcap')\n",
    ")\n",
    "\n",
    "top100 = avg_mktcap.sort_values(by='avg_mktcap', ascending=False).head(100)\n",
    "permnos = top100['permno'].tolist()\n"
   ]
  },
  {
   "cell_type": "code",
   "execution_count": 27,
   "id": "2193c863",
   "metadata": {},
   "outputs": [],
   "source": [
    "permno_str = ','.join(map(str, permnos))\n",
    "\n",
    "prices_df = db.raw_sql(f\"\"\"\n",
    "    SELECT permno, date, prc, shrout\n",
    "    FROM crsp.dsf\n",
    "    WHERE date BETWEEN '2004-01-01' AND '2024-12-31'\n",
    "      AND permno IN ({permno_str})\n",
    "\"\"\")"
   ]
  },
  {
   "cell_type": "code",
   "execution_count": 28,
   "id": "92374b13",
   "metadata": {},
   "outputs": [
    {
     "name": "stdout",
     "output_type": "stream",
     "text": [
      "       permno        date        prc     shrout\n",
      "0       10104  2004-01-02      13.14  5227587.0\n",
      "1       10104  2004-01-05      13.55  5227587.0\n",
      "2       10104  2004-01-06       13.6  5227587.0\n",
      "3       10104  2004-01-07      13.97  5227587.0\n",
      "4       10104  2004-01-08      14.24  5227587.0\n",
      "...       ...         ...        ...        ...\n",
      "28495   92655  2024-12-24  506.10001   920284.0\n",
      "28496   92655  2024-12-26  511.14999   920284.0\n",
      "28497   92655  2024-12-27  509.98999   920284.0\n",
      "28498   92655  2024-12-30  507.79999   920284.0\n",
      "28499   92655  2024-12-31  505.85999   920284.0\n",
      "\n",
      "[528500 rows x 4 columns]\n"
     ]
    }
   ],
   "source": [
    "print(prices_df)"
   ]
  },
  {
   "cell_type": "code",
   "execution_count": 29,
   "id": "a4acb1b3",
   "metadata": {},
   "outputs": [
    {
     "name": "stdout",
     "output_type": "stream",
     "text": [
      "         gvkey    datadate  fqtr  fyr     tic                          conm  \\\n",
      "0       001013  2004-01-31     1   10  ADCT.1    ADC TELECOMMUNICATIONS INC   \n",
      "1       001082  2004-01-31     3    4  SERV.1                 SERVIDYNE INC   \n",
      "2       001173  2004-01-31     4    1   AIM.1                AEROSONIC CORP   \n",
      "3       001183  2004-01-31     4    1   IDAI.                      IDNA INC   \n",
      "4       001240  2004-01-31     4    1   ABS.1               ALBERTSON'S INC   \n",
      "...        ...         ...   ...  ...     ...                           ...   \n",
      "466066  351590  2024-12-31     4   12   DTRUY      DAIMLER TRUCK HOLDING AG   \n",
      "466067  352262  2024-12-31     4   12    CLCO              COOL COMPANY LTD   \n",
      "466068  354003  2024-12-31     4   12    BEMB   ISHARES JP MORGAN B U E M B   \n",
      "466069  356128  2024-12-31     4   12    KSPI  JOINT STOCK COMPANY KASPI KZ   \n",
      "466070  356289  2024-12-31     2    6    SUUN                SOLARBANK CORP   \n",
      "\n",
      "              atq       dlcq      dlttq  \n",
      "0          1290.1        7.5      400.0  \n",
      "1          70.899      5.793     31.954  \n",
      "2          18.985        1.2      2.216  \n",
      "3          30.916      1.339     11.794  \n",
      "4         15394.0      520.0     4804.0  \n",
      "...           ...        ...        ...  \n",
      "466066  76461.977  10656.472  19021.799  \n",
      "466067   2243.136    141.996   1163.879  \n",
      "466068       <NA>       <NA>       <NA>  \n",
      "466069  15967.927     262.67      0.263  \n",
      "466070    185.345     11.459     65.308  \n",
      "\n",
      "[966071 rows x 9 columns]\n"
     ]
    }
   ],
   "source": [
    "fundamentals = db.raw_sql(\"\"\"\n",
    "    SELECT gvkey, datadate, fqtr, fyr, tic, conm,\n",
    "           atq, dlcq, dlttq\n",
    "    FROM comp.fundq\n",
    "    WHERE indfmt = 'INDL'\n",
    "      AND datafmt = 'STD'\n",
    "      AND popsrc = 'D'\n",
    "      AND consol = 'C'\n",
    "      AND datadate BETWEEN '2004-01-01' AND '2024-12-31'\n",
    "\"\"\")\n",
    "\n",
    "print(fundamentals)"
   ]
  },
  {
   "cell_type": "code",
   "execution_count": 30,
   "id": "4bca16f4",
   "metadata": {},
   "outputs": [],
   "source": [
    "ccmlink = db.raw_sql(\"\"\"\n",
    "    SELECT gvkey, lpermno as permno, linktype, linkprim,\n",
    "           linkdt, linkenddt\n",
    "    FROM crsp.ccmxpf_linktable\n",
    "    WHERE linktype IN ('LU', 'LC') AND linkprim IN ('P', 'C')\n",
    "\"\"\")\n",
    "\n",
    "fundamentals['datadate'] = pd.to_datetime(fundamentals['datadate'])\n",
    "ccmlink['linkdt'] = pd.to_datetime(ccmlink['linkdt'])\n",
    "ccmlink['linkenddt'] = pd.to_datetime(ccmlink['linkenddt'])\n",
    "\n",
    "fundamentals_merged = fundamentals.merge(ccmlink, on='gvkey', how='left')\n",
    "\n",
    "# Filter only rows where Compustat date falls within the valid link period\n",
    "fundamentals_merged = fundamentals_merged[\n",
    "    (fundamentals_merged['datadate'] >= fundamentals_merged['linkdt']) &\n",
    "    ((fundamentals_merged['datadate'] <= fundamentals_merged['linkenddt']) | fundamentals_merged['linkenddt'].isna())\n",
    "]"
   ]
  },
  {
   "cell_type": "code",
   "execution_count": 31,
   "id": "389dc66c",
   "metadata": {},
   "outputs": [],
   "source": [
    "prices_df['date'] = pd.to_datetime(prices_df['date'])\n",
    "fundamentals_merged['datadate'] = pd.to_datetime(fundamentals_merged['datadate'])\n",
    "prices_df['permno'] = prices_df['permno'].astype(int)\n",
    "fundamentals_merged['permno'] = fundamentals_merged['permno'].astype(int)\n",
    "prices_df = prices_df.sort_values(['permno', 'date'])\n",
    "fundamentals_merged = fundamentals_merged.sort_values(['permno', 'datadate'])\n",
    "merged_list = []\n",
    "\n",
    "for permno in prices_df['permno'].unique():\n",
    "    price_sub = prices_df[prices_df['permno'] == permno].copy()\n",
    "    fin_sub = fundamentals_merged[fundamentals_merged['permno'] == permno].copy()\n",
    "\n",
    "    if not price_sub.empty and not fin_sub.empty:\n",
    "        merged = pd.merge_asof(\n",
    "            price_sub.sort_values('date'),\n",
    "            fin_sub.sort_values('datadate'),\n",
    "            left_on='date',\n",
    "            right_on='datadate',\n",
    "            direction='backward'\n",
    "        )\n",
    "        merged_list.append(merged)\n",
    "\n",
    "merged_df = pd.concat(merged_list, ignore_index=True)\n",
    "merged_df.to_csv(\"raw_data.csv\")"
   ]
  }
 ],
 "metadata": {
  "kernelspec": {
   "display_name": "base",
   "language": "python",
   "name": "python3"
  },
  "language_info": {
   "codemirror_mode": {
    "name": "ipython",
    "version": 3
   },
   "file_extension": ".py",
   "mimetype": "text/x-python",
   "name": "python",
   "nbconvert_exporter": "python",
   "pygments_lexer": "ipython3",
   "version": "3.12.4"
  }
 },
 "nbformat": 4,
 "nbformat_minor": 5
}
